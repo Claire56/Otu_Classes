{
 "cells": [
  {
   "cell_type": "markdown",
   "metadata": {},
   "source": [
    "# Question \n",
    "\n",
    "- Create a DataFrame `df` from the dictionary `data` which has the index `labels`. Both data and labels are in the next cell. \n",
    "- Display a summary of the basic information and statistics about this DataFrame and its data. **hint, check the pandas function describe**.\n",
    "- Display the first 3 rows of the DataFrame df.\n",
    "- Display just the 'animal' and 'age' columns from the DataFrame df.\n",
    "- What are the animals and ages for the rows of 3,4 and 7\n",
    "- What is the average age for animals that has number of visits greater than 3.\n",
    "- How many cats with age less than 3\n",
    "- Change the age in row 'f' to 1.5\n",
    "- Calculate the sum of all visits (the total number of visits).\n",
    "- Count the number of each type of animal in df. **hint, check the pandas function value_counts**.\n",
    "- Sort df first by the values in the 'age' in descending order, then by the value in the 'visit' column in ascending order. **hint, check the pandas function sort_values**.\n",
    "- The 'priority' column contains the values 'yes' and 'no'. Replace this column with a column of boolean values: 'yes' should be True and 'no' should be False."
   ]
  },
  {
   "cell_type": "code",
   "execution_count": 2,
   "metadata": {},
   "outputs": [],
   "source": [
    "import numpy as np \n",
    "import pandas as pd \n",
    "data = {'animal': ['cat', 'cat', 'snake', 'dog', 'dog', 'cat', 'snake', 'cat', 'dog', 'dog'],\n",
    "        'age': [2.5, 3, 0.5, 4, 5, 2, 4.5, 2, 7, 3],\n",
    "        'visits': [1, 3, 2, 3, 2, 3, 1, 1, 2, 1],\n",
    "        'priority': ['yes', 'yes', 'no', 'yes', 'no', 'no', 'no', 'yes', 'no', 'no']}\n",
    "labels = ['a', 'b', 'c', 'd', 'e', 'f', 'g', 'h', 'i', 'j']\n"
   ]
  },
  {
   "cell_type": "code",
   "execution_count": null,
   "metadata": {},
   "outputs": [],
   "source": []
  }
 ],
 "metadata": {
  "kernelspec": {
   "display_name": "Python 3",
   "language": "python",
   "name": "python3"
  },
  "language_info": {
   "codemirror_mode": {
    "name": "ipython",
    "version": 3
   },
   "file_extension": ".py",
   "mimetype": "text/x-python",
   "name": "python",
   "nbconvert_exporter": "python",
   "pygments_lexer": "ipython3",
   "version": "3.7.3"
  }
 },
 "nbformat": 4,
 "nbformat_minor": 4
}

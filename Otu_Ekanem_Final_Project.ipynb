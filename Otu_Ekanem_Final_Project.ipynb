{
 "cells": [
  {
   "cell_type": "markdown",
   "metadata": {},
   "source": [
    "This project is for the class of OPS802. The target of the project is to have a hands on full data analytics experience from A to Z. That means starting with raw data and reading it into python then doing some analytical and statstical observations on the data and finally doing some supervised and unsupervised learning on the data. The data we will use for this project is one of the most famous datasets in the machine learning world which is called IRIS classification dataset. That means there is plenty of resources for you online to learn from and that you are not the first person who saw and analyzed this data. Use this to your advantage. The Iris flower data set or Fisher's Iris data set is a multivariate data set introduced by the British statistician and biologist Ronald Fisher in his 1936 paper \"The use of multiple measurements in taxonomic problems\" as an example of linear discriminant analysis. We will describe it more in details later. The project measures the capabilities of lodaing data, cleaning it up, running some tests and statistical analysis and finally machine learning. The following highlights the project\n",
    "-  The project consists of four parts, they are mostly independent and in order based on what we studies in class\n",
    "-  The deadline of the project is the last day of the quarter\n",
    "-  The project is individual, however I encourage you to talk to each other to check your different approaches without copying codes or talking about detailed code specific. For example, it is ok to ask about which function you have used to tackle part a and is it better than this other function or not. It is not ok to copy the exact code including that function you asked about.\n",
    "- You are expected to heavily utilize resources outside the class notebooks such as Google, StackOverflow, .. etc\n",
    "- Code cleanings and Display has 10% of the grade"
   ]
  },
  {
   "cell_type": "code",
   "execution_count": null,
   "metadata": {},
   "outputs": [],
   "source": []
  },
  {
   "cell_type": "markdown",
   "metadata": {},
   "source": [
    "# Part1: Data Loading and Cleaning up\n",
    "The iris flower dataset consists of 150 collected observations for different flower's charachteristics. The dataset contains four attributes. These four attributes help decide which Iris class does the flower belong to. The four attributes are sepal length, sepal width, petal length, and petal width; all in cm. The data set contains 3 classes Iris Setosa, Iris Versicolour, and Iris Virginica. For more info about the dataset, you can chek [this link](https://en.wikipedia.org/wiki/Iris_flower_data_set). The end target of the project will be to build a model that can predict, based on the four attributes, which class does the flower belong to.\n",
    "\n",
    "In the first part of the project we will start by loading the data and cleaning up any problems within the data. "
   ]
  },
  {
   "cell_type": "markdown",
   "metadata": {},
   "source": [
    "- load the Iris dataset using the file iris.data. You can open it with any text editor to find out how it looks like. Decide which separator you would like to use and if any rows needs to be skipped\n",
    "<br>\n",
    "Now let's do some exploring\n",
    "- How many rows and colums are in the file\n",
    "- How many nulls in the file\n",
    "- Which rows contains nans and how many nans in each of these rows\n",
    "- How many nans per columns?\n",
    "- The 35th sample should be: 4.9,3.1,1.5,0.2,\"Iris-setosa\" based on the original paper. Is that what you have? If not, fix it\n",
    "- The 39th sample: 4.9,3.6,1.4,0.1,\"Iris-setosa\",  where the errors are in the second and third features. Fix it"
   ]
  },
  {
   "cell_type": "code",
   "execution_count": 41,
   "metadata": {},
   "outputs": [
    {
     "name": "stdout",
     "output_type": "stream",
     "text": [
      "<class 'pandas.core.frame.DataFrame'>\n",
      "RangeIndex: 153 entries, 0 to 152\n",
      "Data columns (total 5 columns):\n",
      "sepal_length    151 non-null float64\n",
      "sepal_width     152 non-null float64\n",
      "petal_length    151 non-null float64\n",
      "petal width     151 non-null float64\n",
      "class           151 non-null object\n",
      "dtypes: float64(4), object(1)\n",
      "memory usage: 6.1+ KB\n"
     ]
    },
    {
     "data": {
      "text/plain": [
       "(None,        sepal_length  sepal_width  petal_length  petal width\n",
       " count    151.000000   152.000000    151.000000   151.000000\n",
       " mean       5.833775     3.057237      3.747020     1.192053\n",
       " std        0.833618     0.431784      1.764608     0.764942\n",
       " min        4.300000     2.000000      1.000000     0.100000\n",
       " 25%        5.100000     2.800000      1.600000     0.300000\n",
       " 50%        5.800000     3.000000      4.300000     1.300000\n",
       " 75%        6.400000     3.300000      5.100000     1.800000\n",
       " max        7.900000     4.400000      6.900000     2.500000)"
      ]
     },
     "execution_count": 41,
     "metadata": {},
     "output_type": "execute_result"
    }
   ],
   "source": [
    "# Solve Here\n",
    "import pandas as pd\n",
    "\n",
    "data = pd.read_csv('iris_not_clean.data', sep = '|', header = None , comment= \"#\") \n",
    "data.columns =['sepal_length', 'sepal_width', 'petal_length', 'petal width','class']\n",
    "data.info(),data.describe()"
   ]
  },
  {
   "cell_type": "code",
   "execution_count": 42,
   "metadata": {},
   "outputs": [
    {
     "data": {
      "text/html": [
       "<div>\n",
       "<style scoped>\n",
       "    .dataframe tbody tr th:only-of-type {\n",
       "        vertical-align: middle;\n",
       "    }\n",
       "\n",
       "    .dataframe tbody tr th {\n",
       "        vertical-align: top;\n",
       "    }\n",
       "\n",
       "    .dataframe thead th {\n",
       "        text-align: right;\n",
       "    }\n",
       "</style>\n",
       "<table border=\"1\" class=\"dataframe\">\n",
       "  <thead>\n",
       "    <tr style=\"text-align: right;\">\n",
       "      <th></th>\n",
       "      <th>sepal_length</th>\n",
       "      <th>sepal_width</th>\n",
       "      <th>petal_length</th>\n",
       "      <th>petal width</th>\n",
       "      <th>class</th>\n",
       "    </tr>\n",
       "  </thead>\n",
       "  <tbody>\n",
       "    <tr>\n",
       "      <th>0</th>\n",
       "      <td>5.1</td>\n",
       "      <td>3.5</td>\n",
       "      <td>1.4</td>\n",
       "      <td>0.2</td>\n",
       "      <td>Iris-setosa</td>\n",
       "    </tr>\n",
       "    <tr>\n",
       "      <th>1</th>\n",
       "      <td>4.9</td>\n",
       "      <td>3.0</td>\n",
       "      <td>1.4</td>\n",
       "      <td>0.2</td>\n",
       "      <td>Iris-setosa</td>\n",
       "    </tr>\n",
       "    <tr>\n",
       "      <th>2</th>\n",
       "      <td>4.7</td>\n",
       "      <td>3.2</td>\n",
       "      <td>1.3</td>\n",
       "      <td>0.2</td>\n",
       "      <td>Iris-setosa</td>\n",
       "    </tr>\n",
       "    <tr>\n",
       "      <th>3</th>\n",
       "      <td>4.6</td>\n",
       "      <td>3.1</td>\n",
       "      <td>1.5</td>\n",
       "      <td>0.2</td>\n",
       "      <td>Iris-setosa</td>\n",
       "    </tr>\n",
       "    <tr>\n",
       "      <th>4</th>\n",
       "      <td>5.0</td>\n",
       "      <td>3.6</td>\n",
       "      <td>1.4</td>\n",
       "      <td>0.2</td>\n",
       "      <td>Iris-setosa</td>\n",
       "    </tr>\n",
       "  </tbody>\n",
       "</table>\n",
       "</div>"
      ],
      "text/plain": [
       "   sepal_length  sepal_width  petal_length  petal width        class\n",
       "0           5.1          3.5           1.4          0.2  Iris-setosa\n",
       "1           4.9          3.0           1.4          0.2  Iris-setosa\n",
       "2           4.7          3.2           1.3          0.2  Iris-setosa\n",
       "3           4.6          3.1           1.5          0.2  Iris-setosa\n",
       "4           5.0          3.6           1.4          0.2  Iris-setosa"
      ]
     },
     "execution_count": 42,
     "metadata": {},
     "output_type": "execute_result"
    }
   ],
   "source": [
    "data.head(5)\n"
   ]
  },
  {
   "cell_type": "code",
   "execution_count": 43,
   "metadata": {},
   "outputs": [
    {
     "name": "stdout",
     "output_type": "stream",
     "text": [
      "<class 'pandas.core.frame.DataFrame'>\n",
      "RangeIndex: 153 entries, 0 to 152\n",
      "Data columns (total 5 columns):\n",
      "sepal_length    151 non-null float64\n",
      "sepal_width     152 non-null float64\n",
      "petal_length    151 non-null float64\n",
      "petal width     151 non-null float64\n",
      "class           151 non-null object\n",
      "dtypes: float64(4), object(1)\n",
      "memory usage: 6.1+ KB\n"
     ]
    },
    {
     "data": {
      "text/plain": [
       "(None,    sepal_length  sepal_width  petal_length  petal width        class\n",
       " 0           5.1          3.5           1.4          0.2  Iris-setosa\n",
       " 1           4.9          3.0           1.4          0.2  Iris-setosa\n",
       " 2           4.7          3.2           1.3          0.2  Iris-setosa\n",
       " 3           4.6          3.1           1.5          0.2  Iris-setosa\n",
       " 4           5.0          3.6           1.4          0.2  Iris-setosa)"
      ]
     },
     "execution_count": 43,
     "metadata": {},
     "output_type": "execute_result"
    }
   ],
   "source": [
    "data['sepal_length'] = pd.to_numeric(data['sepal_length'],errors='coerce')#turn sepal length data type to float\n",
    "data.info(),data.head()"
   ]
  },
  {
   "cell_type": "code",
   "execution_count": 44,
   "metadata": {},
   "outputs": [
    {
     "data": {
      "text/html": [
       "<div>\n",
       "<style scoped>\n",
       "    .dataframe tbody tr th:only-of-type {\n",
       "        vertical-align: middle;\n",
       "    }\n",
       "\n",
       "    .dataframe tbody tr th {\n",
       "        vertical-align: top;\n",
       "    }\n",
       "\n",
       "    .dataframe thead th {\n",
       "        text-align: right;\n",
       "    }\n",
       "</style>\n",
       "<table border=\"1\" class=\"dataframe\">\n",
       "  <thead>\n",
       "    <tr style=\"text-align: right;\">\n",
       "      <th></th>\n",
       "      <th>sepal_length</th>\n",
       "      <th>sepal_width</th>\n",
       "      <th>petal_length</th>\n",
       "      <th>petal width</th>\n",
       "    </tr>\n",
       "  </thead>\n",
       "  <tbody>\n",
       "    <tr>\n",
       "      <th>count</th>\n",
       "      <td>151.000000</td>\n",
       "      <td>152.000000</td>\n",
       "      <td>151.000000</td>\n",
       "      <td>151.000000</td>\n",
       "    </tr>\n",
       "    <tr>\n",
       "      <th>mean</th>\n",
       "      <td>5.833775</td>\n",
       "      <td>3.057237</td>\n",
       "      <td>3.747020</td>\n",
       "      <td>1.192053</td>\n",
       "    </tr>\n",
       "    <tr>\n",
       "      <th>std</th>\n",
       "      <td>0.833618</td>\n",
       "      <td>0.431784</td>\n",
       "      <td>1.764608</td>\n",
       "      <td>0.764942</td>\n",
       "    </tr>\n",
       "    <tr>\n",
       "      <th>min</th>\n",
       "      <td>4.300000</td>\n",
       "      <td>2.000000</td>\n",
       "      <td>1.000000</td>\n",
       "      <td>0.100000</td>\n",
       "    </tr>\n",
       "    <tr>\n",
       "      <th>25%</th>\n",
       "      <td>5.100000</td>\n",
       "      <td>2.800000</td>\n",
       "      <td>1.600000</td>\n",
       "      <td>0.300000</td>\n",
       "    </tr>\n",
       "    <tr>\n",
       "      <th>50%</th>\n",
       "      <td>5.800000</td>\n",
       "      <td>3.000000</td>\n",
       "      <td>4.300000</td>\n",
       "      <td>1.300000</td>\n",
       "    </tr>\n",
       "    <tr>\n",
       "      <th>75%</th>\n",
       "      <td>6.400000</td>\n",
       "      <td>3.300000</td>\n",
       "      <td>5.100000</td>\n",
       "      <td>1.800000</td>\n",
       "    </tr>\n",
       "    <tr>\n",
       "      <th>max</th>\n",
       "      <td>7.900000</td>\n",
       "      <td>4.400000</td>\n",
       "      <td>6.900000</td>\n",
       "      <td>2.500000</td>\n",
       "    </tr>\n",
       "  </tbody>\n",
       "</table>\n",
       "</div>"
      ],
      "text/plain": [
       "       sepal_length  sepal_width  petal_length  petal width\n",
       "count    151.000000   152.000000    151.000000   151.000000\n",
       "mean       5.833775     3.057237      3.747020     1.192053\n",
       "std        0.833618     0.431784      1.764608     0.764942\n",
       "min        4.300000     2.000000      1.000000     0.100000\n",
       "25%        5.100000     2.800000      1.600000     0.300000\n",
       "50%        5.800000     3.000000      4.300000     1.300000\n",
       "75%        6.400000     3.300000      5.100000     1.800000\n",
       "max        7.900000     4.400000      6.900000     2.500000"
      ]
     },
     "execution_count": 44,
     "metadata": {},
     "output_type": "execute_result"
    }
   ],
   "source": [
    "data.describe()"
   ]
  },
  {
   "cell_type": "code",
   "execution_count": 45,
   "metadata": {},
   "outputs": [
    {
     "data": {
      "text/html": [
       "<div>\n",
       "<style scoped>\n",
       "    .dataframe tbody tr th:only-of-type {\n",
       "        vertical-align: middle;\n",
       "    }\n",
       "\n",
       "    .dataframe tbody tr th {\n",
       "        vertical-align: top;\n",
       "    }\n",
       "\n",
       "    .dataframe thead th {\n",
       "        text-align: right;\n",
       "    }\n",
       "</style>\n",
       "<table border=\"1\" class=\"dataframe\">\n",
       "  <thead>\n",
       "    <tr style=\"text-align: right;\">\n",
       "      <th></th>\n",
       "      <th>sepal_length</th>\n",
       "      <th>sepal_width</th>\n",
       "      <th>petal_length</th>\n",
       "      <th>petal width</th>\n",
       "      <th>class</th>\n",
       "    </tr>\n",
       "  </thead>\n",
       "  <tbody>\n",
       "    <tr>\n",
       "      <th>28</th>\n",
       "      <td>5.2</td>\n",
       "      <td>3.4</td>\n",
       "      <td>NaN</td>\n",
       "      <td>0.2</td>\n",
       "      <td>Iris-setosa</td>\n",
       "    </tr>\n",
       "    <tr>\n",
       "      <th>29</th>\n",
       "      <td>NaN</td>\n",
       "      <td>NaN</td>\n",
       "      <td>NaN</td>\n",
       "      <td>NaN</td>\n",
       "      <td>NaN</td>\n",
       "    </tr>\n",
       "    <tr>\n",
       "      <th>44</th>\n",
       "      <td>NaN</td>\n",
       "      <td>3.2</td>\n",
       "      <td>2.1</td>\n",
       "      <td>NaN</td>\n",
       "      <td>NaN</td>\n",
       "    </tr>\n",
       "  </tbody>\n",
       "</table>\n",
       "</div>"
      ],
      "text/plain": [
       "    sepal_length  sepal_width  petal_length  petal width        class\n",
       "28           5.2          3.4           NaN          0.2  Iris-setosa\n",
       "29           NaN          NaN           NaN          NaN          NaN\n",
       "44           NaN          3.2           2.1          NaN          NaN"
      ]
     },
     "execution_count": 45,
     "metadata": {},
     "output_type": "execute_result"
    }
   ],
   "source": [
    "#Which rows contains nans and how many nans in each of these rows\n",
    "rows_with_nulls = data[pd.isnull(data).any(axis=1)]\n",
    "rows_with_nulls"
   ]
  },
  {
   "cell_type": "code",
   "execution_count": 46,
   "metadata": {},
   "outputs": [
    {
     "data": {
      "text/plain": [
       "28    1\n",
       "29    5\n",
       "44    3\n",
       "dtype: int64"
      ]
     },
     "execution_count": 46,
     "metadata": {},
     "output_type": "execute_result"
    }
   ],
   "source": [
    "rows_with_nulls.isnull().sum(axis=1)#how many nulls in each of these rows"
   ]
  },
  {
   "cell_type": "code",
   "execution_count": 47,
   "metadata": {},
   "outputs": [
    {
     "data": {
      "text/html": [
       "<div>\n",
       "<style scoped>\n",
       "    .dataframe tbody tr th:only-of-type {\n",
       "        vertical-align: middle;\n",
       "    }\n",
       "\n",
       "    .dataframe tbody tr th {\n",
       "        vertical-align: top;\n",
       "    }\n",
       "\n",
       "    .dataframe thead th {\n",
       "        text-align: right;\n",
       "    }\n",
       "</style>\n",
       "<table border=\"1\" class=\"dataframe\">\n",
       "  <thead>\n",
       "    <tr style=\"text-align: right;\">\n",
       "      <th></th>\n",
       "      <th>sepal_length</th>\n",
       "      <th>sepal_width</th>\n",
       "      <th>petal_length</th>\n",
       "      <th>petal width</th>\n",
       "      <th>class</th>\n",
       "    </tr>\n",
       "  </thead>\n",
       "  <tbody>\n",
       "    <tr>\n",
       "      <th>False</th>\n",
       "      <td>151</td>\n",
       "      <td>152</td>\n",
       "      <td>151</td>\n",
       "      <td>151</td>\n",
       "      <td>151</td>\n",
       "    </tr>\n",
       "    <tr>\n",
       "      <th>True</th>\n",
       "      <td>2</td>\n",
       "      <td>1</td>\n",
       "      <td>2</td>\n",
       "      <td>2</td>\n",
       "      <td>2</td>\n",
       "    </tr>\n",
       "  </tbody>\n",
       "</table>\n",
       "</div>"
      ],
      "text/plain": [
       "       sepal_length  sepal_width  petal_length  petal width  class\n",
       "False           151          152           151          151    151\n",
       "True              2            1             2            2      2"
      ]
     },
     "execution_count": 47,
     "metadata": {},
     "output_type": "execute_result"
    }
   ],
   "source": [
    "#counting number of nulls, the above code also does provide a solution but lets do this too\n",
    "nan_df = data.isna() #you can head the dataset to see what it looks like\n",
    "\n",
    "nan_df.apply(pd.Series.value_counts)"
   ]
  },
  {
   "cell_type": "code",
   "execution_count": 48,
   "metadata": {},
   "outputs": [
    {
     "data": {
      "text/plain": [
       "(153, 5)"
      ]
     },
     "execution_count": 48,
     "metadata": {},
     "output_type": "execute_result"
    }
   ],
   "source": [
    "data.shape"
   ]
  },
  {
   "cell_type": "code",
   "execution_count": 49,
   "metadata": {},
   "outputs": [
    {
     "data": {
      "text/plain": [
       "(150, 5)"
      ]
     },
     "execution_count": 49,
     "metadata": {},
     "output_type": "execute_result"
    }
   ],
   "source": [
    "df =data.dropna()#dopping nulls, 5 rows were dropped \n",
    "df.shape"
   ]
  },
  {
   "cell_type": "code",
   "execution_count": 50,
   "metadata": {},
   "outputs": [
    {
     "name": "stdout",
     "output_type": "stream",
     "text": [
      "<class 'pandas.core.frame.DataFrame'>\n",
      "Int64Index: 150 entries, 0 to 152\n",
      "Data columns (total 5 columns):\n",
      "sepal_length    150 non-null float64\n",
      "sepal_width     150 non-null float64\n",
      "petal_length    150 non-null float64\n",
      "petal width     150 non-null float64\n",
      "class           150 non-null object\n",
      "dtypes: float64(4), object(1)\n",
      "memory usage: 7.0+ KB\n"
     ]
    },
    {
     "data": {
      "text/plain": [
       "(       sepal_length  sepal_width  petal_length  petal width\n",
       " count    150.000000   150.000000    150.000000   150.000000\n",
       " mean       5.838000     3.054000      3.758000     1.198667\n",
       " std        0.834786     0.433594      1.765336     0.763161\n",
       " min        4.300000     2.000000      1.000000     0.100000\n",
       " 25%        5.100000     2.800000      1.600000     0.300000\n",
       " 50%        5.800000     3.000000      4.350000     1.300000\n",
       " 75%        6.400000     3.300000      5.100000     1.800000\n",
       " max        7.900000     4.400000      6.900000     2.500000,\n",
       " None,\n",
       "    sepal_length  sepal_width  petal_length  petal width        class\n",
       " 0           5.1          3.5           1.4          0.2  Iris-setosa\n",
       " 1           4.9          3.0           1.4          0.2  Iris-setosa\n",
       " 2           4.7          3.2           1.3          0.2  Iris-setosa\n",
       " 3           4.6          3.1           1.5          0.2  Iris-setosa\n",
       " 4           5.0          3.6           1.4          0.2  Iris-setosa)"
      ]
     },
     "execution_count": 50,
     "metadata": {},
     "output_type": "execute_result"
    }
   ],
   "source": [
    "df.describe(), df.info() ,df.head()#no more nulls "
   ]
  },
  {
   "cell_type": "code",
   "execution_count": 51,
   "metadata": {},
   "outputs": [
    {
     "data": {
      "text/plain": [
       "sepal_length            4.9\n",
       "sepal_width             3.1\n",
       "petal_length            1.5\n",
       "petal width             0.1\n",
       "class           Iris-setosa\n",
       "Name: 38, dtype: object"
      ]
     },
     "execution_count": 51,
     "metadata": {},
     "output_type": "execute_result"
    }
   ],
   "source": [
    "\n",
    "#The 36th sample should be: 4.9,3.1,1.5,0.2,\"Iris-setosa\" based on the original paper. \n",
    "#Is that what you have? If not, fix it\n",
    "df.iloc[36]"
   ]
  },
  {
   "cell_type": "code",
   "execution_count": 52,
   "metadata": {},
   "outputs": [
    {
     "name": "stderr",
     "output_type": "stream",
     "text": [
      "C:\\ProgramData\\Anaconda3\\lib\\site-packages\\pandas\\core\\indexing.py:543: SettingWithCopyWarning: \n",
      "A value is trying to be set on a copy of a slice from a DataFrame.\n",
      "Try using .loc[row_indexer,col_indexer] = value instead\n",
      "\n",
      "See the caveats in the documentation: http://pandas.pydata.org/pandas-docs/stable/indexing.html#indexing-view-versus-copy\n",
      "  self.obj[item] = s\n"
     ]
    },
    {
     "data": {
      "text/plain": [
       "sepal_length            4.9\n",
       "sepal_width             3.1\n",
       "petal_length            1.5\n",
       "petal width             0.2\n",
       "class           Iris-setosa\n",
       "Name: 38, dtype: object"
      ]
     },
     "execution_count": 52,
     "metadata": {},
     "output_type": "execute_result"
    }
   ],
   "source": [
    "df.iloc[36,3] = 0.2\n",
    "df.iloc[36]"
   ]
  },
  {
   "cell_type": "code",
   "execution_count": 53,
   "metadata": {},
   "outputs": [
    {
     "data": {
      "text/plain": [
       "(sepal_length              5\n",
       " sepal_width             3.5\n",
       " petal_length            1.3\n",
       " petal width             0.3\n",
       " class           Iris-setosa\n",
       " Name: 41, dtype: object, sepal_length            4.4\n",
       " sepal_width               3\n",
       " petal_length            1.3\n",
       " petal width             0.2\n",
       " class           Iris-setosa\n",
       " Name: 39, dtype: object,    sepal_length  sepal_width  petal_length  petal width        class\n",
       " 0           5.1          3.5           1.4          0.2  Iris-setosa\n",
       " 1           4.9          3.0           1.4          0.2  Iris-setosa\n",
       " 2           4.7          3.2           1.3          0.2  Iris-setosa\n",
       " 3           4.6          3.1           1.5          0.2  Iris-setosa\n",
       " 4           5.0          3.6           1.4          0.2  Iris-setosa)"
      ]
     },
     "execution_count": 53,
     "metadata": {},
     "output_type": "execute_result"
    }
   ],
   "source": [
    "df.iloc[39], df.loc[39], df.head()"
   ]
  },
  {
   "cell_type": "code",
   "execution_count": 54,
   "metadata": {},
   "outputs": [
    {
     "data": {
      "text/plain": [
       "sepal_length            4.9\n",
       "sepal_width             3.6\n",
       "petal_length            1.4\n",
       "petal width             0.1\n",
       "class           Iris-setosa\n",
       "Name: 41, dtype: object"
      ]
     },
     "execution_count": 54,
     "metadata": {},
     "output_type": "execute_result"
    }
   ],
   "source": [
    "#The 39th sample: 4.9,3.6,1.4,0.1,\"Iris-setosa\", where the errors are in the second and third features. Fix it\n",
    "df.iloc[39]=[4.9,3.6,1.4,0.1,\"Iris-setosa\"]\n",
    "df.iloc[39]"
   ]
  },
  {
   "cell_type": "code",
   "execution_count": 55,
   "metadata": {},
   "outputs": [
    {
     "name": "stdout",
     "output_type": "stream",
     "text": [
      "     sepal_length  sepal_width  petal_length  petal width           class\n",
      "0             5.1          3.5           1.4          0.2     Iris-setosa\n",
      "1             4.9          3.0           1.4          0.2     Iris-setosa\n",
      "2             4.7          3.2           1.3          0.2     Iris-setosa\n",
      "3             4.6          3.1           1.5          0.2     Iris-setosa\n",
      "4             5.0          3.6           1.4          0.2     Iris-setosa\n",
      "5             5.4          3.9           1.7          0.4     Iris-setosa\n",
      "6             4.6          3.4           1.4          0.3     Iris-setosa\n",
      "7             5.0          3.4           1.5          0.2     Iris-setosa\n",
      "8             4.4          2.9           1.4          0.2     Iris-setosa\n",
      "9             4.9          3.1           1.5          0.1     Iris-setosa\n",
      "10            5.4          3.7           1.5          0.2     Iris-setosa\n",
      "11            4.8          3.4           1.6          0.2     Iris-setosa\n",
      "12            4.8          3.0           1.4          0.1     Iris-setosa\n",
      "13            4.3          3.0           1.1          0.1     Iris-setosa\n",
      "14            5.8          4.0           1.2          0.2     Iris-setosa\n",
      "15            5.7          4.4           1.5          0.4     Iris-setosa\n",
      "16            5.4          3.9           1.3          0.4     Iris-setosa\n",
      "17            5.1          3.5           1.4          0.3     Iris-setosa\n",
      "18            5.7          3.8           1.7          0.3     Iris-setosa\n",
      "19            5.1          3.8           1.5          0.3     Iris-setosa\n",
      "20            5.4          3.4           1.7          0.2     Iris-setosa\n",
      "21            5.1          3.7           1.5          0.4     Iris-setosa\n",
      "22            4.6          3.6           1.0          0.2     Iris-setosa\n",
      "23            5.1          3.3           1.7          0.5     Iris-setosa\n",
      "24            4.8          3.4           1.9          0.2     Iris-setosa\n",
      "25            5.0          3.0           1.6          0.2     Iris-setosa\n",
      "26            5.0          3.4           1.6          0.4     Iris-setosa\n",
      "27            5.2          3.5           1.5          0.2     Iris-setosa\n",
      "28            5.2          3.4           NaN          0.2     Iris-setosa\n",
      "29            NaN          NaN           NaN          NaN             NaN\n",
      "..            ...          ...           ...          ...             ...\n",
      "123           6.9          3.2           5.7          2.3  Iris-virginica\n",
      "124           5.6          2.8           4.9          2.0  Iris-virginica\n",
      "125           7.7          2.8           6.7          2.0  Iris-virginica\n",
      "126           6.3          2.7           4.9          1.8  Iris-virginica\n",
      "127           6.7          3.3           5.7          2.1  Iris-virginica\n",
      "128           7.2          3.2           6.0          1.8  Iris-virginica\n",
      "129           6.2          2.8           4.8          1.8  Iris-virginica\n",
      "130           6.1          3.0           4.9          1.8  Iris-virginica\n",
      "131           6.4          2.8           5.6          2.1  Iris-virginica\n",
      "132           7.2          3.0           5.8          1.6  Iris-virginica\n",
      "133           7.4          2.8           6.1          1.9  Iris-virginica\n",
      "134           7.9          3.8           6.4          2.0  Iris-virginica\n",
      "135           6.4          2.8           5.6          2.2  Iris-virginica\n",
      "136           6.3          2.8           5.1          1.5  Iris-virginica\n",
      "137           6.1          2.6           5.6          1.4  Iris-virginica\n",
      "138           7.7          3.0           6.1          2.3  Iris-virginica\n",
      "139           6.3          3.4           5.6          2.4  Iris-virginica\n",
      "140           6.4          3.1           5.5          1.8  Iris-virginica\n",
      "141           6.0          3.0           4.8          1.8  Iris-virginica\n",
      "142           6.9          3.1           5.4          2.1  Iris-virginica\n",
      "143           6.7          3.1           5.6          2.4  Iris-virginica\n",
      "144           6.9          3.1           5.1          2.3  Iris-virginica\n",
      "145           5.8          2.7           5.1          1.9  Iris-virginica\n",
      "146           6.8          3.2           5.9          2.3  Iris-virginica\n",
      "147           6.7          3.3           5.7          2.5  Iris-virginica\n",
      "148           6.7          3.0           5.2          2.3  Iris-virginica\n",
      "149           6.3          2.5           5.0          1.9  Iris-virginica\n",
      "150           6.5          3.0           5.2          2.0  Iris-virginica\n",
      "151           6.2          3.4           5.4          2.3  Iris-virginica\n",
      "152           5.9          3.0           5.1          1.8  Iris-virginica\n",
      "\n",
      "[153 rows x 5 columns]\n"
     ]
    }
   ],
   "source": [
    "print(data)#why are you printiing data"
   ]
  },
  {
   "cell_type": "code",
   "execution_count": null,
   "metadata": {},
   "outputs": [],
   "source": []
  },
  {
   "cell_type": "code",
   "execution_count": 56,
   "metadata": {},
   "outputs": [
    {
     "data": {
      "text/html": [
       "<div>\n",
       "<style scoped>\n",
       "    .dataframe tbody tr th:only-of-type {\n",
       "        vertical-align: middle;\n",
       "    }\n",
       "\n",
       "    .dataframe tbody tr th {\n",
       "        vertical-align: top;\n",
       "    }\n",
       "\n",
       "    .dataframe thead th {\n",
       "        text-align: right;\n",
       "    }\n",
       "</style>\n",
       "<table border=\"1\" class=\"dataframe\">\n",
       "  <thead>\n",
       "    <tr style=\"text-align: right;\">\n",
       "      <th></th>\n",
       "      <th>sepal_length</th>\n",
       "      <th>sepal_width</th>\n",
       "      <th>petal_length</th>\n",
       "      <th>petal width</th>\n",
       "      <th>class</th>\n",
       "    </tr>\n",
       "  </thead>\n",
       "  <tbody>\n",
       "    <tr>\n",
       "      <th>0</th>\n",
       "      <td>5.1</td>\n",
       "      <td>3.5</td>\n",
       "      <td>1.4</td>\n",
       "      <td>0.2</td>\n",
       "      <td>Iris-setosa</td>\n",
       "    </tr>\n",
       "    <tr>\n",
       "      <th>1</th>\n",
       "      <td>4.9</td>\n",
       "      <td>3.0</td>\n",
       "      <td>1.4</td>\n",
       "      <td>0.2</td>\n",
       "      <td>Iris-setosa</td>\n",
       "    </tr>\n",
       "    <tr>\n",
       "      <th>2</th>\n",
       "      <td>4.7</td>\n",
       "      <td>3.2</td>\n",
       "      <td>1.3</td>\n",
       "      <td>0.2</td>\n",
       "      <td>Iris-setosa</td>\n",
       "    </tr>\n",
       "    <tr>\n",
       "      <th>3</th>\n",
       "      <td>4.6</td>\n",
       "      <td>3.1</td>\n",
       "      <td>1.5</td>\n",
       "      <td>0.2</td>\n",
       "      <td>Iris-setosa</td>\n",
       "    </tr>\n",
       "    <tr>\n",
       "      <th>4</th>\n",
       "      <td>5.0</td>\n",
       "      <td>3.6</td>\n",
       "      <td>1.4</td>\n",
       "      <td>0.2</td>\n",
       "      <td>Iris-setosa</td>\n",
       "    </tr>\n",
       "    <tr>\n",
       "      <th>5</th>\n",
       "      <td>5.4</td>\n",
       "      <td>3.9</td>\n",
       "      <td>1.7</td>\n",
       "      <td>0.4</td>\n",
       "      <td>Iris-setosa</td>\n",
       "    </tr>\n",
       "    <tr>\n",
       "      <th>6</th>\n",
       "      <td>4.6</td>\n",
       "      <td>3.4</td>\n",
       "      <td>1.4</td>\n",
       "      <td>0.3</td>\n",
       "      <td>Iris-setosa</td>\n",
       "    </tr>\n",
       "    <tr>\n",
       "      <th>7</th>\n",
       "      <td>5.0</td>\n",
       "      <td>3.4</td>\n",
       "      <td>1.5</td>\n",
       "      <td>0.2</td>\n",
       "      <td>Iris-setosa</td>\n",
       "    </tr>\n",
       "    <tr>\n",
       "      <th>8</th>\n",
       "      <td>4.4</td>\n",
       "      <td>2.9</td>\n",
       "      <td>1.4</td>\n",
       "      <td>0.2</td>\n",
       "      <td>Iris-setosa</td>\n",
       "    </tr>\n",
       "    <tr>\n",
       "      <th>9</th>\n",
       "      <td>4.9</td>\n",
       "      <td>3.1</td>\n",
       "      <td>1.5</td>\n",
       "      <td>0.1</td>\n",
       "      <td>Iris-setosa</td>\n",
       "    </tr>\n",
       "    <tr>\n",
       "      <th>10</th>\n",
       "      <td>5.4</td>\n",
       "      <td>3.7</td>\n",
       "      <td>1.5</td>\n",
       "      <td>0.2</td>\n",
       "      <td>Iris-setosa</td>\n",
       "    </tr>\n",
       "    <tr>\n",
       "      <th>11</th>\n",
       "      <td>4.8</td>\n",
       "      <td>3.4</td>\n",
       "      <td>1.6</td>\n",
       "      <td>0.2</td>\n",
       "      <td>Iris-setosa</td>\n",
       "    </tr>\n",
       "    <tr>\n",
       "      <th>12</th>\n",
       "      <td>4.8</td>\n",
       "      <td>3.0</td>\n",
       "      <td>1.4</td>\n",
       "      <td>0.1</td>\n",
       "      <td>Iris-setosa</td>\n",
       "    </tr>\n",
       "    <tr>\n",
       "      <th>13</th>\n",
       "      <td>4.3</td>\n",
       "      <td>3.0</td>\n",
       "      <td>1.1</td>\n",
       "      <td>0.1</td>\n",
       "      <td>Iris-setosa</td>\n",
       "    </tr>\n",
       "    <tr>\n",
       "      <th>14</th>\n",
       "      <td>5.8</td>\n",
       "      <td>4.0</td>\n",
       "      <td>1.2</td>\n",
       "      <td>0.2</td>\n",
       "      <td>Iris-setosa</td>\n",
       "    </tr>\n",
       "    <tr>\n",
       "      <th>15</th>\n",
       "      <td>5.7</td>\n",
       "      <td>4.4</td>\n",
       "      <td>1.5</td>\n",
       "      <td>0.4</td>\n",
       "      <td>Iris-setosa</td>\n",
       "    </tr>\n",
       "    <tr>\n",
       "      <th>16</th>\n",
       "      <td>5.4</td>\n",
       "      <td>3.9</td>\n",
       "      <td>1.3</td>\n",
       "      <td>0.4</td>\n",
       "      <td>Iris-setosa</td>\n",
       "    </tr>\n",
       "    <tr>\n",
       "      <th>17</th>\n",
       "      <td>5.1</td>\n",
       "      <td>3.5</td>\n",
       "      <td>1.4</td>\n",
       "      <td>0.3</td>\n",
       "      <td>Iris-setosa</td>\n",
       "    </tr>\n",
       "    <tr>\n",
       "      <th>18</th>\n",
       "      <td>5.7</td>\n",
       "      <td>3.8</td>\n",
       "      <td>1.7</td>\n",
       "      <td>0.3</td>\n",
       "      <td>Iris-setosa</td>\n",
       "    </tr>\n",
       "    <tr>\n",
       "      <th>19</th>\n",
       "      <td>5.1</td>\n",
       "      <td>3.8</td>\n",
       "      <td>1.5</td>\n",
       "      <td>0.3</td>\n",
       "      <td>Iris-setosa</td>\n",
       "    </tr>\n",
       "    <tr>\n",
       "      <th>20</th>\n",
       "      <td>5.4</td>\n",
       "      <td>3.4</td>\n",
       "      <td>1.7</td>\n",
       "      <td>0.2</td>\n",
       "      <td>Iris-setosa</td>\n",
       "    </tr>\n",
       "    <tr>\n",
       "      <th>21</th>\n",
       "      <td>5.1</td>\n",
       "      <td>3.7</td>\n",
       "      <td>1.5</td>\n",
       "      <td>0.4</td>\n",
       "      <td>Iris-setosa</td>\n",
       "    </tr>\n",
       "    <tr>\n",
       "      <th>22</th>\n",
       "      <td>4.6</td>\n",
       "      <td>3.6</td>\n",
       "      <td>1.0</td>\n",
       "      <td>0.2</td>\n",
       "      <td>Iris-setosa</td>\n",
       "    </tr>\n",
       "    <tr>\n",
       "      <th>23</th>\n",
       "      <td>5.1</td>\n",
       "      <td>3.3</td>\n",
       "      <td>1.7</td>\n",
       "      <td>0.5</td>\n",
       "      <td>Iris-setosa</td>\n",
       "    </tr>\n",
       "    <tr>\n",
       "      <th>24</th>\n",
       "      <td>4.8</td>\n",
       "      <td>3.4</td>\n",
       "      <td>1.9</td>\n",
       "      <td>0.2</td>\n",
       "      <td>Iris-setosa</td>\n",
       "    </tr>\n",
       "    <tr>\n",
       "      <th>25</th>\n",
       "      <td>5.0</td>\n",
       "      <td>3.0</td>\n",
       "      <td>1.6</td>\n",
       "      <td>0.2</td>\n",
       "      <td>Iris-setosa</td>\n",
       "    </tr>\n",
       "    <tr>\n",
       "      <th>26</th>\n",
       "      <td>5.0</td>\n",
       "      <td>3.4</td>\n",
       "      <td>1.6</td>\n",
       "      <td>0.4</td>\n",
       "      <td>Iris-setosa</td>\n",
       "    </tr>\n",
       "    <tr>\n",
       "      <th>27</th>\n",
       "      <td>5.2</td>\n",
       "      <td>3.5</td>\n",
       "      <td>1.5</td>\n",
       "      <td>0.2</td>\n",
       "      <td>Iris-setosa</td>\n",
       "    </tr>\n",
       "    <tr>\n",
       "      <th>28</th>\n",
       "      <td>5.2</td>\n",
       "      <td>3.4</td>\n",
       "      <td>NaN</td>\n",
       "      <td>0.2</td>\n",
       "      <td>Iris-setosa</td>\n",
       "    </tr>\n",
       "    <tr>\n",
       "      <th>29</th>\n",
       "      <td>NaN</td>\n",
       "      <td>NaN</td>\n",
       "      <td>NaN</td>\n",
       "      <td>NaN</td>\n",
       "      <td>NaN</td>\n",
       "    </tr>\n",
       "    <tr>\n",
       "      <th>...</th>\n",
       "      <td>...</td>\n",
       "      <td>...</td>\n",
       "      <td>...</td>\n",
       "      <td>...</td>\n",
       "      <td>...</td>\n",
       "    </tr>\n",
       "    <tr>\n",
       "      <th>123</th>\n",
       "      <td>6.9</td>\n",
       "      <td>3.2</td>\n",
       "      <td>5.7</td>\n",
       "      <td>2.3</td>\n",
       "      <td>Iris-virginica</td>\n",
       "    </tr>\n",
       "    <tr>\n",
       "      <th>124</th>\n",
       "      <td>5.6</td>\n",
       "      <td>2.8</td>\n",
       "      <td>4.9</td>\n",
       "      <td>2.0</td>\n",
       "      <td>Iris-virginica</td>\n",
       "    </tr>\n",
       "    <tr>\n",
       "      <th>125</th>\n",
       "      <td>7.7</td>\n",
       "      <td>2.8</td>\n",
       "      <td>6.7</td>\n",
       "      <td>2.0</td>\n",
       "      <td>Iris-virginica</td>\n",
       "    </tr>\n",
       "    <tr>\n",
       "      <th>126</th>\n",
       "      <td>6.3</td>\n",
       "      <td>2.7</td>\n",
       "      <td>4.9</td>\n",
       "      <td>1.8</td>\n",
       "      <td>Iris-virginica</td>\n",
       "    </tr>\n",
       "    <tr>\n",
       "      <th>127</th>\n",
       "      <td>6.7</td>\n",
       "      <td>3.3</td>\n",
       "      <td>5.7</td>\n",
       "      <td>2.1</td>\n",
       "      <td>Iris-virginica</td>\n",
       "    </tr>\n",
       "    <tr>\n",
       "      <th>128</th>\n",
       "      <td>7.2</td>\n",
       "      <td>3.2</td>\n",
       "      <td>6.0</td>\n",
       "      <td>1.8</td>\n",
       "      <td>Iris-virginica</td>\n",
       "    </tr>\n",
       "    <tr>\n",
       "      <th>129</th>\n",
       "      <td>6.2</td>\n",
       "      <td>2.8</td>\n",
       "      <td>4.8</td>\n",
       "      <td>1.8</td>\n",
       "      <td>Iris-virginica</td>\n",
       "    </tr>\n",
       "    <tr>\n",
       "      <th>130</th>\n",
       "      <td>6.1</td>\n",
       "      <td>3.0</td>\n",
       "      <td>4.9</td>\n",
       "      <td>1.8</td>\n",
       "      <td>Iris-virginica</td>\n",
       "    </tr>\n",
       "    <tr>\n",
       "      <th>131</th>\n",
       "      <td>6.4</td>\n",
       "      <td>2.8</td>\n",
       "      <td>5.6</td>\n",
       "      <td>2.1</td>\n",
       "      <td>Iris-virginica</td>\n",
       "    </tr>\n",
       "    <tr>\n",
       "      <th>132</th>\n",
       "      <td>7.2</td>\n",
       "      <td>3.0</td>\n",
       "      <td>5.8</td>\n",
       "      <td>1.6</td>\n",
       "      <td>Iris-virginica</td>\n",
       "    </tr>\n",
       "    <tr>\n",
       "      <th>133</th>\n",
       "      <td>7.4</td>\n",
       "      <td>2.8</td>\n",
       "      <td>6.1</td>\n",
       "      <td>1.9</td>\n",
       "      <td>Iris-virginica</td>\n",
       "    </tr>\n",
       "    <tr>\n",
       "      <th>134</th>\n",
       "      <td>7.9</td>\n",
       "      <td>3.8</td>\n",
       "      <td>6.4</td>\n",
       "      <td>2.0</td>\n",
       "      <td>Iris-virginica</td>\n",
       "    </tr>\n",
       "    <tr>\n",
       "      <th>135</th>\n",
       "      <td>6.4</td>\n",
       "      <td>2.8</td>\n",
       "      <td>5.6</td>\n",
       "      <td>2.2</td>\n",
       "      <td>Iris-virginica</td>\n",
       "    </tr>\n",
       "    <tr>\n",
       "      <th>136</th>\n",
       "      <td>6.3</td>\n",
       "      <td>2.8</td>\n",
       "      <td>5.1</td>\n",
       "      <td>1.5</td>\n",
       "      <td>Iris-virginica</td>\n",
       "    </tr>\n",
       "    <tr>\n",
       "      <th>137</th>\n",
       "      <td>6.1</td>\n",
       "      <td>2.6</td>\n",
       "      <td>5.6</td>\n",
       "      <td>1.4</td>\n",
       "      <td>Iris-virginica</td>\n",
       "    </tr>\n",
       "    <tr>\n",
       "      <th>138</th>\n",
       "      <td>7.7</td>\n",
       "      <td>3.0</td>\n",
       "      <td>6.1</td>\n",
       "      <td>2.3</td>\n",
       "      <td>Iris-virginica</td>\n",
       "    </tr>\n",
       "    <tr>\n",
       "      <th>139</th>\n",
       "      <td>6.3</td>\n",
       "      <td>3.4</td>\n",
       "      <td>5.6</td>\n",
       "      <td>2.4</td>\n",
       "      <td>Iris-virginica</td>\n",
       "    </tr>\n",
       "    <tr>\n",
       "      <th>140</th>\n",
       "      <td>6.4</td>\n",
       "      <td>3.1</td>\n",
       "      <td>5.5</td>\n",
       "      <td>1.8</td>\n",
       "      <td>Iris-virginica</td>\n",
       "    </tr>\n",
       "    <tr>\n",
       "      <th>141</th>\n",
       "      <td>6.0</td>\n",
       "      <td>3.0</td>\n",
       "      <td>4.8</td>\n",
       "      <td>1.8</td>\n",
       "      <td>Iris-virginica</td>\n",
       "    </tr>\n",
       "    <tr>\n",
       "      <th>142</th>\n",
       "      <td>6.9</td>\n",
       "      <td>3.1</td>\n",
       "      <td>5.4</td>\n",
       "      <td>2.1</td>\n",
       "      <td>Iris-virginica</td>\n",
       "    </tr>\n",
       "    <tr>\n",
       "      <th>143</th>\n",
       "      <td>6.7</td>\n",
       "      <td>3.1</td>\n",
       "      <td>5.6</td>\n",
       "      <td>2.4</td>\n",
       "      <td>Iris-virginica</td>\n",
       "    </tr>\n",
       "    <tr>\n",
       "      <th>144</th>\n",
       "      <td>6.9</td>\n",
       "      <td>3.1</td>\n",
       "      <td>5.1</td>\n",
       "      <td>2.3</td>\n",
       "      <td>Iris-virginica</td>\n",
       "    </tr>\n",
       "    <tr>\n",
       "      <th>145</th>\n",
       "      <td>5.8</td>\n",
       "      <td>2.7</td>\n",
       "      <td>5.1</td>\n",
       "      <td>1.9</td>\n",
       "      <td>Iris-virginica</td>\n",
       "    </tr>\n",
       "    <tr>\n",
       "      <th>146</th>\n",
       "      <td>6.8</td>\n",
       "      <td>3.2</td>\n",
       "      <td>5.9</td>\n",
       "      <td>2.3</td>\n",
       "      <td>Iris-virginica</td>\n",
       "    </tr>\n",
       "    <tr>\n",
       "      <th>147</th>\n",
       "      <td>6.7</td>\n",
       "      <td>3.3</td>\n",
       "      <td>5.7</td>\n",
       "      <td>2.5</td>\n",
       "      <td>Iris-virginica</td>\n",
       "    </tr>\n",
       "    <tr>\n",
       "      <th>148</th>\n",
       "      <td>6.7</td>\n",
       "      <td>3.0</td>\n",
       "      <td>5.2</td>\n",
       "      <td>2.3</td>\n",
       "      <td>Iris-virginica</td>\n",
       "    </tr>\n",
       "    <tr>\n",
       "      <th>149</th>\n",
       "      <td>6.3</td>\n",
       "      <td>2.5</td>\n",
       "      <td>5.0</td>\n",
       "      <td>1.9</td>\n",
       "      <td>Iris-virginica</td>\n",
       "    </tr>\n",
       "    <tr>\n",
       "      <th>150</th>\n",
       "      <td>6.5</td>\n",
       "      <td>3.0</td>\n",
       "      <td>5.2</td>\n",
       "      <td>2.0</td>\n",
       "      <td>Iris-virginica</td>\n",
       "    </tr>\n",
       "    <tr>\n",
       "      <th>151</th>\n",
       "      <td>6.2</td>\n",
       "      <td>3.4</td>\n",
       "      <td>5.4</td>\n",
       "      <td>2.3</td>\n",
       "      <td>Iris-virginica</td>\n",
       "    </tr>\n",
       "    <tr>\n",
       "      <th>152</th>\n",
       "      <td>5.9</td>\n",
       "      <td>3.0</td>\n",
       "      <td>5.1</td>\n",
       "      <td>1.8</td>\n",
       "      <td>Iris-virginica</td>\n",
       "    </tr>\n",
       "  </tbody>\n",
       "</table>\n",
       "<p>153 rows × 5 columns</p>\n",
       "</div>"
      ],
      "text/plain": [
       "     sepal_length  sepal_width  petal_length  petal width           class\n",
       "0             5.1          3.5           1.4          0.2     Iris-setosa\n",
       "1             4.9          3.0           1.4          0.2     Iris-setosa\n",
       "2             4.7          3.2           1.3          0.2     Iris-setosa\n",
       "3             4.6          3.1           1.5          0.2     Iris-setosa\n",
       "4             5.0          3.6           1.4          0.2     Iris-setosa\n",
       "5             5.4          3.9           1.7          0.4     Iris-setosa\n",
       "6             4.6          3.4           1.4          0.3     Iris-setosa\n",
       "7             5.0          3.4           1.5          0.2     Iris-setosa\n",
       "8             4.4          2.9           1.4          0.2     Iris-setosa\n",
       "9             4.9          3.1           1.5          0.1     Iris-setosa\n",
       "10            5.4          3.7           1.5          0.2     Iris-setosa\n",
       "11            4.8          3.4           1.6          0.2     Iris-setosa\n",
       "12            4.8          3.0           1.4          0.1     Iris-setosa\n",
       "13            4.3          3.0           1.1          0.1     Iris-setosa\n",
       "14            5.8          4.0           1.2          0.2     Iris-setosa\n",
       "15            5.7          4.4           1.5          0.4     Iris-setosa\n",
       "16            5.4          3.9           1.3          0.4     Iris-setosa\n",
       "17            5.1          3.5           1.4          0.3     Iris-setosa\n",
       "18            5.7          3.8           1.7          0.3     Iris-setosa\n",
       "19            5.1          3.8           1.5          0.3     Iris-setosa\n",
       "20            5.4          3.4           1.7          0.2     Iris-setosa\n",
       "21            5.1          3.7           1.5          0.4     Iris-setosa\n",
       "22            4.6          3.6           1.0          0.2     Iris-setosa\n",
       "23            5.1          3.3           1.7          0.5     Iris-setosa\n",
       "24            4.8          3.4           1.9          0.2     Iris-setosa\n",
       "25            5.0          3.0           1.6          0.2     Iris-setosa\n",
       "26            5.0          3.4           1.6          0.4     Iris-setosa\n",
       "27            5.2          3.5           1.5          0.2     Iris-setosa\n",
       "28            5.2          3.4           NaN          0.2     Iris-setosa\n",
       "29            NaN          NaN           NaN          NaN             NaN\n",
       "..            ...          ...           ...          ...             ...\n",
       "123           6.9          3.2           5.7          2.3  Iris-virginica\n",
       "124           5.6          2.8           4.9          2.0  Iris-virginica\n",
       "125           7.7          2.8           6.7          2.0  Iris-virginica\n",
       "126           6.3          2.7           4.9          1.8  Iris-virginica\n",
       "127           6.7          3.3           5.7          2.1  Iris-virginica\n",
       "128           7.2          3.2           6.0          1.8  Iris-virginica\n",
       "129           6.2          2.8           4.8          1.8  Iris-virginica\n",
       "130           6.1          3.0           4.9          1.8  Iris-virginica\n",
       "131           6.4          2.8           5.6          2.1  Iris-virginica\n",
       "132           7.2          3.0           5.8          1.6  Iris-virginica\n",
       "133           7.4          2.8           6.1          1.9  Iris-virginica\n",
       "134           7.9          3.8           6.4          2.0  Iris-virginica\n",
       "135           6.4          2.8           5.6          2.2  Iris-virginica\n",
       "136           6.3          2.8           5.1          1.5  Iris-virginica\n",
       "137           6.1          2.6           5.6          1.4  Iris-virginica\n",
       "138           7.7          3.0           6.1          2.3  Iris-virginica\n",
       "139           6.3          3.4           5.6          2.4  Iris-virginica\n",
       "140           6.4          3.1           5.5          1.8  Iris-virginica\n",
       "141           6.0          3.0           4.8          1.8  Iris-virginica\n",
       "142           6.9          3.1           5.4          2.1  Iris-virginica\n",
       "143           6.7          3.1           5.6          2.4  Iris-virginica\n",
       "144           6.9          3.1           5.1          2.3  Iris-virginica\n",
       "145           5.8          2.7           5.1          1.9  Iris-virginica\n",
       "146           6.8          3.2           5.9          2.3  Iris-virginica\n",
       "147           6.7          3.3           5.7          2.5  Iris-virginica\n",
       "148           6.7          3.0           5.2          2.3  Iris-virginica\n",
       "149           6.3          2.5           5.0          1.9  Iris-virginica\n",
       "150           6.5          3.0           5.2          2.0  Iris-virginica\n",
       "151           6.2          3.4           5.4          2.3  Iris-virginica\n",
       "152           5.9          3.0           5.1          1.8  Iris-virginica\n",
       "\n",
       "[153 rows x 5 columns]"
      ]
     },
     "execution_count": 56,
     "metadata": {},
     "output_type": "execute_result"
    }
   ],
   "source": [
    "data #why??"
   ]
  },
  {
   "cell_type": "markdown",
   "metadata": {},
   "source": [
    "# Part 2: Stastical Exploring\n",
    "In this part we will understand a little more about the data and do some cool plottings\n",
    "- What is the mean and variance for each column and use the function describe to get insights about the data\n",
    "- Drop the nan rows\n",
    "- Recaluclate the mean and variance for each column\n",
    "- What is the correlation between the fourth column and each of the other three columns individually? Any observations\n",
    "- How many records exist for each class. # Hint, you can do this in one line by using groupby\n",
    "- Change the random seed to 1234 and randomly pick 20 samples of the data and display it\n",
    "- Plot histogram for all the data attributes\n",
    "- Plot histogram for all the data attributes per feature, i.e. grouped by features"
   ]
  },
  {
   "cell_type": "code",
   "execution_count": 57,
   "metadata": {},
   "outputs": [
    {
     "data": {
      "text/plain": [
       "sepal_length    5.833775\n",
       "sepal_width     3.057237\n",
       "petal_length    3.747020\n",
       "petal width     1.192053\n",
       "dtype: float64"
      ]
     },
     "execution_count": 57,
     "metadata": {},
     "output_type": "execute_result"
    }
   ],
   "source": [
    "# Solve Here\n",
    "# Mean and variance\n",
    "data.mean()"
   ]
  },
  {
   "cell_type": "code",
   "execution_count": 58,
   "metadata": {},
   "outputs": [
    {
     "data": {
      "text/plain": [
       "sepal_length    0.694918\n",
       "sepal_width     0.186437\n",
       "petal_length    3.113841\n",
       "petal width     0.585136\n",
       "dtype: float64"
      ]
     },
     "execution_count": 58,
     "metadata": {},
     "output_type": "execute_result"
    }
   ],
   "source": [
    "data.var() #variance for each column"
   ]
  },
  {
   "cell_type": "code",
   "execution_count": 59,
   "metadata": {},
   "outputs": [],
   "source": [
    "# Drop the nan rows\n",
    "data.dropna(inplace = True)\n"
   ]
  },
  {
   "cell_type": "code",
   "execution_count": 60,
   "metadata": {},
   "outputs": [
    {
     "data": {
      "text/plain": [
       "(sepal_length    5.838000\n",
       " sepal_width     3.054000\n",
       " petal_length    3.758000\n",
       " petal width     1.198667\n",
       " dtype: float64, sepal_length    0.696868\n",
       " sepal_width     0.188004\n",
       " petal_length    3.116412\n",
       " petal width     0.582414\n",
       " dtype: float64)"
      ]
     },
     "execution_count": 60,
     "metadata": {},
     "output_type": "execute_result"
    }
   ],
   "source": [
    "# Recaluclate the mean and variance for each column\n",
    "data.mean(), data.var()"
   ]
  },
  {
   "cell_type": "code",
   "execution_count": 61,
   "metadata": {},
   "outputs": [
    {
     "data": {
      "text/html": [
       "<div>\n",
       "<style scoped>\n",
       "    .dataframe tbody tr th:only-of-type {\n",
       "        vertical-align: middle;\n",
       "    }\n",
       "\n",
       "    .dataframe tbody tr th {\n",
       "        vertical-align: top;\n",
       "    }\n",
       "\n",
       "    .dataframe thead th {\n",
       "        text-align: right;\n",
       "    }\n",
       "</style>\n",
       "<table border=\"1\" class=\"dataframe\">\n",
       "  <thead>\n",
       "    <tr style=\"text-align: right;\">\n",
       "      <th></th>\n",
       "      <th>sepal_length</th>\n",
       "      <th>sepal_width</th>\n",
       "      <th>petal_length</th>\n",
       "      <th>petal width</th>\n",
       "    </tr>\n",
       "  </thead>\n",
       "  <tbody>\n",
       "    <tr>\n",
       "      <th>sepal_length</th>\n",
       "      <td>1.000000</td>\n",
       "      <td>-0.113621</td>\n",
       "      <td>0.873536</td>\n",
       "      <td>0.819785</td>\n",
       "    </tr>\n",
       "    <tr>\n",
       "      <th>sepal_width</th>\n",
       "      <td>-0.113621</td>\n",
       "      <td>1.000000</td>\n",
       "      <td>-0.420601</td>\n",
       "      <td>-0.356544</td>\n",
       "    </tr>\n",
       "    <tr>\n",
       "      <th>petal_length</th>\n",
       "      <td>0.873536</td>\n",
       "      <td>-0.420601</td>\n",
       "      <td>1.000000</td>\n",
       "      <td>0.962755</td>\n",
       "    </tr>\n",
       "    <tr>\n",
       "      <th>petal width</th>\n",
       "      <td>0.819785</td>\n",
       "      <td>-0.356544</td>\n",
       "      <td>0.962755</td>\n",
       "      <td>1.000000</td>\n",
       "    </tr>\n",
       "  </tbody>\n",
       "</table>\n",
       "</div>"
      ],
      "text/plain": [
       "              sepal_length  sepal_width  petal_length  petal width\n",
       "sepal_length      1.000000    -0.113621      0.873536     0.819785\n",
       "sepal_width      -0.113621     1.000000     -0.420601    -0.356544\n",
       "petal_length      0.873536    -0.420601      1.000000     0.962755\n",
       "petal width       0.819785    -0.356544      0.962755     1.000000"
      ]
     },
     "execution_count": 61,
     "metadata": {},
     "output_type": "execute_result"
    }
   ],
   "source": [
    "# What is the correlation between the fourth column and each of the other three \n",
    "# columns individually? Any observations\n",
    "data.corr(method='pearson')"
   ]
  },
  {
   "cell_type": "code",
   "execution_count": 62,
   "metadata": {},
   "outputs": [
    {
     "data": {
      "text/plain": [
       "(Index(['sepal_length', 'sepal_width', 'petal_length', 'petal width', 'class'], dtype='object'),\n",
       " class\n",
       " Iris-setosa        50\n",
       " Iris-versicolor    50\n",
       " Iris-virginica     50\n",
       " dtype: int64)"
      ]
     },
     "execution_count": 62,
     "metadata": {},
     "output_type": "execute_result"
    }
   ],
   "source": [
    "# How many records exist for each class. # Hint, you can do this in one line by using groupby\n",
    "data.columns, data.groupby('class').size()"
   ]
  },
  {
   "cell_type": "code",
   "execution_count": 63,
   "metadata": {},
   "outputs": [
    {
     "data": {
      "text/html": [
       "<div>\n",
       "<style scoped>\n",
       "    .dataframe tbody tr th:only-of-type {\n",
       "        vertical-align: middle;\n",
       "    }\n",
       "\n",
       "    .dataframe tbody tr th {\n",
       "        vertical-align: top;\n",
       "    }\n",
       "\n",
       "    .dataframe thead th {\n",
       "        text-align: right;\n",
       "    }\n",
       "</style>\n",
       "<table border=\"1\" class=\"dataframe\">\n",
       "  <thead>\n",
       "    <tr style=\"text-align: right;\">\n",
       "      <th></th>\n",
       "      <th>sepal_length</th>\n",
       "      <th>sepal_width</th>\n",
       "      <th>petal_length</th>\n",
       "      <th>petal width</th>\n",
       "      <th>class</th>\n",
       "    </tr>\n",
       "  </thead>\n",
       "  <tbody>\n",
       "    <tr>\n",
       "      <th>94</th>\n",
       "      <td>6.1</td>\n",
       "      <td>3.0</td>\n",
       "      <td>4.6</td>\n",
       "      <td>1.4</td>\n",
       "      <td>Iris-versicolor</td>\n",
       "    </tr>\n",
       "    <tr>\n",
       "      <th>66</th>\n",
       "      <td>6.1</td>\n",
       "      <td>2.9</td>\n",
       "      <td>4.7</td>\n",
       "      <td>1.4</td>\n",
       "      <td>Iris-versicolor</td>\n",
       "    </tr>\n",
       "    <tr>\n",
       "      <th>106</th>\n",
       "      <td>6.3</td>\n",
       "      <td>2.9</td>\n",
       "      <td>5.6</td>\n",
       "      <td>1.8</td>\n",
       "      <td>Iris-virginica</td>\n",
       "    </tr>\n",
       "    <tr>\n",
       "      <th>6</th>\n",
       "      <td>4.6</td>\n",
       "      <td>3.4</td>\n",
       "      <td>1.4</td>\n",
       "      <td>0.3</td>\n",
       "      <td>Iris-setosa</td>\n",
       "    </tr>\n",
       "    <tr>\n",
       "      <th>62</th>\n",
       "      <td>5.2</td>\n",
       "      <td>2.7</td>\n",
       "      <td>3.9</td>\n",
       "      <td>1.4</td>\n",
       "      <td>Iris-versicolor</td>\n",
       "    </tr>\n",
       "    <tr>\n",
       "      <th>31</th>\n",
       "      <td>4.8</td>\n",
       "      <td>3.1</td>\n",
       "      <td>1.6</td>\n",
       "      <td>0.2</td>\n",
       "      <td>Iris-setosa</td>\n",
       "    </tr>\n",
       "    <tr>\n",
       "      <th>27</th>\n",
       "      <td>5.2</td>\n",
       "      <td>3.5</td>\n",
       "      <td>1.5</td>\n",
       "      <td>0.2</td>\n",
       "      <td>Iris-setosa</td>\n",
       "    </tr>\n",
       "    <tr>\n",
       "      <th>37</th>\n",
       "      <td>5.5</td>\n",
       "      <td>3.5</td>\n",
       "      <td>1.3</td>\n",
       "      <td>0.2</td>\n",
       "      <td>Iris-setosa</td>\n",
       "    </tr>\n",
       "    <tr>\n",
       "      <th>102</th>\n",
       "      <td>5.7</td>\n",
       "      <td>2.8</td>\n",
       "      <td>4.1</td>\n",
       "      <td>1.3</td>\n",
       "      <td>Iris-versicolor</td>\n",
       "    </tr>\n",
       "    <tr>\n",
       "      <th>125</th>\n",
       "      <td>7.7</td>\n",
       "      <td>2.8</td>\n",
       "      <td>6.7</td>\n",
       "      <td>2.0</td>\n",
       "      <td>Iris-virginica</td>\n",
       "    </tr>\n",
       "    <tr>\n",
       "      <th>85</th>\n",
       "      <td>5.8</td>\n",
       "      <td>2.7</td>\n",
       "      <td>3.9</td>\n",
       "      <td>1.2</td>\n",
       "      <td>Iris-versicolor</td>\n",
       "    </tr>\n",
       "    <tr>\n",
       "      <th>45</th>\n",
       "      <td>5.0</td>\n",
       "      <td>3.5</td>\n",
       "      <td>1.6</td>\n",
       "      <td>0.6</td>\n",
       "      <td>Iris-setosa</td>\n",
       "    </tr>\n",
       "    <tr>\n",
       "      <th>120</th>\n",
       "      <td>7.7</td>\n",
       "      <td>3.8</td>\n",
       "      <td>6.7</td>\n",
       "      <td>2.2</td>\n",
       "      <td>Iris-virginica</td>\n",
       "    </tr>\n",
       "    <tr>\n",
       "      <th>64</th>\n",
       "      <td>5.9</td>\n",
       "      <td>3.0</td>\n",
       "      <td>4.2</td>\n",
       "      <td>1.5</td>\n",
       "      <td>Iris-versicolor</td>\n",
       "    </tr>\n",
       "    <tr>\n",
       "      <th>46</th>\n",
       "      <td>5.1</td>\n",
       "      <td>3.8</td>\n",
       "      <td>1.9</td>\n",
       "      <td>0.4</td>\n",
       "      <td>Iris-setosa</td>\n",
       "    </tr>\n",
       "    <tr>\n",
       "      <th>82</th>\n",
       "      <td>5.7</td>\n",
       "      <td>2.6</td>\n",
       "      <td>3.5</td>\n",
       "      <td>1.0</td>\n",
       "      <td>Iris-versicolor</td>\n",
       "    </tr>\n",
       "    <tr>\n",
       "      <th>103</th>\n",
       "      <td>6.3</td>\n",
       "      <td>3.3</td>\n",
       "      <td>6.0</td>\n",
       "      <td>2.5</td>\n",
       "      <td>Iris-virginica</td>\n",
       "    </tr>\n",
       "    <tr>\n",
       "      <th>25</th>\n",
       "      <td>5.0</td>\n",
       "      <td>3.0</td>\n",
       "      <td>1.6</td>\n",
       "      <td>0.2</td>\n",
       "      <td>Iris-setosa</td>\n",
       "    </tr>\n",
       "    <tr>\n",
       "      <th>111</th>\n",
       "      <td>6.7</td>\n",
       "      <td>2.5</td>\n",
       "      <td>5.8</td>\n",
       "      <td>1.8</td>\n",
       "      <td>Iris-virginica</td>\n",
       "    </tr>\n",
       "    <tr>\n",
       "      <th>97</th>\n",
       "      <td>5.6</td>\n",
       "      <td>2.7</td>\n",
       "      <td>4.2</td>\n",
       "      <td>1.3</td>\n",
       "      <td>Iris-versicolor</td>\n",
       "    </tr>\n",
       "  </tbody>\n",
       "</table>\n",
       "</div>"
      ],
      "text/plain": [
       "     sepal_length  sepal_width  petal_length  petal width            class\n",
       "94            6.1          3.0           4.6          1.4  Iris-versicolor\n",
       "66            6.1          2.9           4.7          1.4  Iris-versicolor\n",
       "106           6.3          2.9           5.6          1.8   Iris-virginica\n",
       "6             4.6          3.4           1.4          0.3      Iris-setosa\n",
       "62            5.2          2.7           3.9          1.4  Iris-versicolor\n",
       "31            4.8          3.1           1.6          0.2      Iris-setosa\n",
       "27            5.2          3.5           1.5          0.2      Iris-setosa\n",
       "37            5.5          3.5           1.3          0.2      Iris-setosa\n",
       "102           5.7          2.8           4.1          1.3  Iris-versicolor\n",
       "125           7.7          2.8           6.7          2.0   Iris-virginica\n",
       "85            5.8          2.7           3.9          1.2  Iris-versicolor\n",
       "45            5.0          3.5           1.6          0.6      Iris-setosa\n",
       "120           7.7          3.8           6.7          2.2   Iris-virginica\n",
       "64            5.9          3.0           4.2          1.5  Iris-versicolor\n",
       "46            5.1          3.8           1.9          0.4      Iris-setosa\n",
       "82            5.7          2.6           3.5          1.0  Iris-versicolor\n",
       "103           6.3          3.3           6.0          2.5   Iris-virginica\n",
       "25            5.0          3.0           1.6          0.2      Iris-setosa\n",
       "111           6.7          2.5           5.8          1.8   Iris-virginica\n",
       "97            5.6          2.7           4.2          1.3  Iris-versicolor"
      ]
     },
     "execution_count": 63,
     "metadata": {},
     "output_type": "execute_result"
    }
   ],
   "source": [
    "# Change the random seed to 1234 and randomly pick 20 samples of the data and display it\n",
    "import numpy as np\n",
    "import random as randn\n",
    "\n",
    "np.random.seed(1234)\n",
    "df.sample(n=20)\n",
    "\n"
   ]
  },
  {
   "cell_type": "code",
   "execution_count": 64,
   "metadata": {},
   "outputs": [],
   "source": [
    "# Plot histogram for all the data attributes"
   ]
  },
  {
   "cell_type": "code",
   "execution_count": 65,
   "metadata": {},
   "outputs": [
    {
     "data": {
      "text/plain": [
       "array([[<matplotlib.axes._subplots.AxesSubplot object at 0x000001E2E0473E10>,\n",
       "        <matplotlib.axes._subplots.AxesSubplot object at 0x000001E2E069B080>],\n",
       "       [<matplotlib.axes._subplots.AxesSubplot object at 0x000001E2E1204908>,\n",
       "        <matplotlib.axes._subplots.AxesSubplot object at 0x000001E2E0884EF0>]],\n",
       "      dtype=object)"
      ]
     },
     "execution_count": 65,
     "metadata": {},
     "output_type": "execute_result"
    },
    {
     "data": {
      "image/png": "[encoded data removed]",
      "text/plain": [
       "<Figure size 432x288 with 4 Axes>"
      ]
     },
     "metadata": {
      "needs_background": "light"
     },
     "output_type": "display_data"
    }
   ],
   "source": [
    "%matplotlib inline\n",
    "data.hist()"
   ]
  },
  {
   "cell_type": "code",
   "execution_count": 66,
   "metadata": {},
   "outputs": [
    {
     "data": {
      "text/plain": [
       "class\n",
       "Iris-setosa        [[AxesSubplot(0.125,0.551739;0.336957x0.328261...\n",
       "Iris-versicolor    [[AxesSubplot(0.125,0.551739;0.336957x0.328261...\n",
       "Iris-virginica     [[AxesSubplot(0.125,0.551739;0.336957x0.328261...\n",
       "dtype: object"
      ]
     },
     "execution_count": 66,
     "metadata": {},
     "output_type": "execute_result"
    },
    {
     "data": {
      "image/png": "[encoded data removed]",
      "text/plain": [
       "<Figure size 432x288 with 4 Axes>"
      ]
     },
     "metadata": {
      "needs_background": "light"
     },
     "output_type": "display_data"
    },
    {
     "data": {
      "image/png": "[encoded data removed]",
      "text/plain": [
       "<Figure size 432x288 with 4 Axes>"
      ]
     },
     "metadata": {
      "needs_background": "light"
     },
     "output_type": "display_data"
    },
    {
     "data": {
      "image/png": "[encoded data removed]",
      "text/plain": [
       "<Figure size 432x288 with 4 Axes>"
      ]
     },
     "metadata": {
      "needs_background": "light"
     },
     "output_type": "display_data"
    }
   ],
   "source": [
    "data.groupby('class').hist()"
   ]
  },
  {
   "cell_type": "markdown",
   "metadata": {},
   "source": [
    "# Part 3: Statistical Analysis \n",
    "In this part, you will explore some curve fitting and dimensionality reductions attributes\n"
   ]
  },
  {
   "cell_type": "markdown",
   "metadata": {},
   "source": [
    "- Use Scipy pdf fitting to do a curve fitting for the petal-length\n",
    "- Plot the normalized histogrm of the petal-length and the estimated pdf on the same figure\n",
    "- Generate new 500 samples using the estimated pdf for the petal-length \n",
    "- Calculate the mean of the new samples and compare how close it is to the mean of the given data"
   ]
  },
  {
   "cell_type": "code",
   "execution_count": null,
   "metadata": {},
   "outputs": [],
   "source": []
  },
  {
   "cell_type": "code",
   "execution_count": 67,
   "metadata": {},
   "outputs": [
    {
     "data": {
      "text/plain": [
       "0      1.4\n",
       "1      NaN\n",
       "2      1.4\n",
       "3      1.3\n",
       "4      1.5\n",
       "5      1.4\n",
       "6      1.7\n",
       "7      1.4\n",
       "8      1.5\n",
       "9      1.4\n",
       "10     1.5\n",
       "11     1.5\n",
       "12     1.6\n",
       "13     1.4\n",
       "14     1.1\n",
       "15     1.2\n",
       "16     1.5\n",
       "17     1.3\n",
       "18     1.4\n",
       "19     1.7\n",
       "20     1.5\n",
       "21     1.7\n",
       "22     1.5\n",
       "23     1.0\n",
       "24     1.7\n",
       "25     1.9\n",
       "26     1.6\n",
       "27     1.6\n",
       "28     1.5\n",
       "29     NaN\n",
       "      ... \n",
       "125    5.7\n",
       "126    4.9\n",
       "127    6.7\n",
       "128    4.9\n",
       "129    5.7\n",
       "130    6.0\n",
       "131    4.8\n",
       "132    4.9\n",
       "133    5.6\n",
       "134    5.8\n",
       "135    6.1\n",
       "136    6.4\n",
       "137    5.6\n",
       "138    5.1\n",
       "139    5.6\n",
       "140    6.1\n",
       "141    5.6\n",
       "142    5.5\n",
       "143    4.8\n",
       "144    5.4\n",
       "145    5.6\n",
       "146    5.1\n",
       "147    5.1\n",
       "148    5.9\n",
       "149    5.7\n",
       "150    5.2\n",
       "151    5.0\n",
       "152    5.2\n",
       "153    5.4\n",
       "154    5.1\n",
       "Name: petal_length, Length: 155, dtype: float64"
      ]
     },
     "execution_count": 67,
     "metadata": {},
     "output_type": "execute_result"
    }
   ],
   "source": [
    "data2"
   ]
  },
  {
   "cell_type": "code",
   "execution_count": 70,
   "metadata": {},
   "outputs": [],
   "source": [
    "# Solve Here\n",
    "\n",
    "import scipy.stats\n",
    "import matplotlib.pyplot as plt\n",
    "\n",
    "data2 = data['petal_length']\n",
    "\n",
    "xxx = np.linspace(data2.min()-1,data2.max()+1,250)\n",
    "yyy = scipy.stats.gaussian_kde(data2)"
   ]
  },
  {
   "cell_type": "code",
   "execution_count": null,
   "metadata": {},
   "outputs": [],
   "source": []
  },
  {
   "cell_type": "raw",
   "metadata": {},
   "source": [
    "fig = plt.figure(figsize=(10,6))\n",
    "plt.hist(data2,density=True, label = 'Histogram')\n",
    "plt.plot(xxx,yyy(xxx),label = ' Density')\n",
    "plt.legend()"
   ]
  },
  {
   "cell_type": "code",
   "execution_count": 73,
   "metadata": {},
   "outputs": [
    {
     "data": {
      "text/plain": [
       "array([[0.83390041, 3.72107278, 5.42919451, 1.64689413, 1.07657404,\n",
       "        5.94235766, 4.40724075, 5.1682748 , 1.58871593, 1.76714273,\n",
       "        3.32635315, 4.18488615, 5.5138434 , 4.88360556, 1.19380394,\n",
       "        5.39670068, 7.49358664, 0.2697765 , 5.66735278, 0.19136922,\n",
       "        5.50788122, 6.08549636, 4.7678411 , 4.18194104, 1.74109981,\n",
       "        2.5215199 , 1.33050482, 6.35587919, 1.43900336, 4.09969459,\n",
       "        4.55745634, 1.88271718, 2.89636086, 1.65514455, 5.7893736 ,\n",
       "        4.10622219, 5.24981433, 1.73978664, 6.1552445 , 1.29800257,\n",
       "        2.02889207, 2.52710691, 4.41451465, 3.57655625, 3.84864151,\n",
       "        2.85089836, 3.87540542, 2.48439038, 5.11677882, 5.65386324,\n",
       "        1.95529615, 0.74893224, 5.66263449, 5.36020346, 1.55422396,\n",
       "        5.03780407, 3.42111378, 7.13313874, 1.72152592, 2.0162341 ,\n",
       "        1.19281029, 1.56325828, 2.47992188, 0.8784267 , 0.12378577,\n",
       "        1.08387341, 5.52536063, 1.5165773 , 6.4478633 , 0.81795998,\n",
       "        6.19249155, 0.70625641, 4.1428911 , 3.84645012, 5.40747881,\n",
       "        4.12085785, 5.21725455, 5.14036355, 3.45294611, 4.14318122,\n",
       "        2.69202926, 2.19701843, 5.69052189, 4.35547232, 4.97626066,\n",
       "        1.57923942, 4.88661635, 2.52216748, 3.30808039, 5.2267302 ,\n",
       "        6.33560838, 3.49043988, 2.22457691, 4.1606069 , 3.02523964,\n",
       "        5.41644261, 3.73137972, 3.77601229, 5.7356985 , 4.71577963,\n",
       "        2.94534543, 5.51897003, 2.11567614, 5.5203339 , 4.99557506,\n",
       "        1.97621941, 5.08688291, 3.91854914, 4.29290791, 3.09821286,\n",
       "        5.60174296, 0.92966779, 4.58540025, 4.38707488, 4.76001472,\n",
       "        4.54658064, 2.93826957, 4.0106413 , 5.7325034 , 5.64589438,\n",
       "        4.67652938, 5.86595228, 2.34610747, 5.75803453, 4.48550983,\n",
       "        5.06222763, 5.68531508, 4.9464889 , 4.7207192 , 7.34719575,\n",
       "        4.36648118, 4.67726112, 5.74669492, 2.75294959, 1.24862994,\n",
       "        6.64355024, 6.52995546, 4.360141  , 1.47852551, 6.09375684,\n",
       "        4.29819175, 0.92013831, 3.49145727, 4.1616597 , 1.97656515,\n",
       "        5.69111193, 4.55878325, 4.83321443, 5.92128456, 6.02433845,\n",
       "        6.05931005, 3.21849151, 3.09787796, 5.84780047, 5.26596006,\n",
       "        5.75362866, 4.62903655, 7.09122686, 5.20783815, 0.59035916,\n",
       "        3.08813745, 1.68216068, 1.70243657, 4.677627  , 0.856387  ,\n",
       "        1.95896922, 3.77335461, 3.98905055, 5.49112964, 1.53314522,\n",
       "        1.50284847, 1.96154962, 1.49381296, 2.39765325, 5.93535744,\n",
       "        5.92720111, 4.78520745, 5.15123282, 5.71526653, 5.47213761,\n",
       "        3.89347591, 0.93167804, 5.61495564, 2.13736641, 1.51523217,\n",
       "        4.95887573, 4.42926055, 4.92140127, 4.38214162, 1.35734599,\n",
       "        2.44629514, 6.59866603, 1.740882  , 5.01566793, 0.8798263 ,\n",
       "        6.058702  , 4.87026028, 3.43210945, 1.65031209, 6.03320041,\n",
       "        4.45686932, 4.18512168, 4.22065985, 2.17045074, 0.9672477 ,\n",
       "        5.46410298, 2.99335494, 4.49307874, 1.74155298, 6.7608371 ,\n",
       "        4.95901943, 5.60942324, 3.97100596, 1.53880143, 6.52748007,\n",
       "        6.98413771, 4.81036107, 4.6648052 , 1.48701542, 4.1483808 ,\n",
       "        1.6112071 , 3.93691608, 4.58357262, 0.91365135, 1.99908613,\n",
       "        4.46030927, 3.52625311, 4.43719047, 5.74545424, 2.11925028,\n",
       "        5.46260523, 4.08643119, 2.97699801, 5.17835957, 6.23698657,\n",
       "        5.00104623, 6.09229359, 4.82587039, 4.01773321, 1.77788519,\n",
       "        4.84401067, 1.47603325, 1.38931222, 1.77301227, 4.89625276,\n",
       "        5.58544421, 4.4851509 , 1.88153745, 5.67143157, 1.86657546,\n",
       "        1.77916445, 1.58704591, 3.20569846, 4.36859512, 0.95220871,\n",
       "        5.26900633, 4.77576553, 4.1644406 , 3.22274686, 6.17114976,\n",
       "        3.66660017, 1.10303686, 3.93292823, 4.47317941, 1.53208095,\n",
       "        4.3594819 , 2.33140618, 4.67519276, 5.85008612, 2.19903548,\n",
       "        1.72082512, 1.37163732, 2.80811162, 7.59771581, 3.45175969,\n",
       "        5.87822658, 1.9939257 , 4.50004239, 5.2038583 , 4.26612396,\n",
       "        4.46902682, 4.0365554 , 4.11876035, 4.78250533, 2.76152722,\n",
       "        4.24929521, 4.66023692, 6.45810614, 2.41921752, 5.23218044,\n",
       "        5.69915215, 3.98397192, 4.92537469, 0.67808394, 2.16925732,\n",
       "        2.1725184 , 3.21016276, 4.52899466, 1.65526228, 0.584335  ,\n",
       "        5.31548125, 5.94278296, 0.77384524, 1.43127767, 5.74017168,\n",
       "        1.03411744, 4.34554653, 5.25215   , 1.25313071, 0.80131057,\n",
       "        5.83060182, 5.27693409, 5.67332391, 2.69968059, 5.24119129,\n",
       "        5.89991433, 5.20489398, 4.9843656 , 0.7768327 , 2.20721877,\n",
       "        5.52592139, 0.89082139, 1.14360875, 1.24415505, 5.47949822,\n",
       "        5.32863276, 3.22342601, 3.51019333, 4.41491571, 1.42992953,\n",
       "        6.0780707 , 4.75381475, 1.33160803, 4.19752153, 3.79065719,\n",
       "        1.46142025, 1.09540643, 4.7265371 , 3.73414778, 1.20128262,\n",
       "        5.81127386, 0.69013275, 0.38894395, 2.50927311, 1.01547479,\n",
       "        4.78964436, 7.38394748, 1.14953414, 1.05664995, 3.98880603,\n",
       "        6.45924389, 6.51484609, 1.3515602 , 4.7933433 , 6.07253542,\n",
       "        5.18108361, 2.80962034, 1.03084418, 3.67577518, 6.07605004,\n",
       "        1.76422964, 5.76469922, 1.31879908, 3.61681155, 5.22911889,\n",
       "        5.41647674, 0.31714428, 0.5318054 , 2.84482599, 3.93478655,\n",
       "        4.35412371, 1.37157214, 5.9679077 , 5.96502645, 1.66961105,\n",
       "        1.24267183, 4.37515268, 3.94757681, 4.99727856, 4.61438172,\n",
       "        1.8240706 , 5.96441441, 1.31960369, 4.12383937, 5.38893516,\n",
       "        4.58602078, 1.59162379, 6.43405703, 0.75209474, 3.40557725,\n",
       "        1.17867492, 4.13217408, 0.48579511, 1.38084303, 1.20356708,\n",
       "        5.16472868, 3.63792411, 2.85736224, 5.37029979, 2.1942474 ,\n",
       "        0.93457036, 2.31355001, 4.69074662, 5.24011233, 5.99285807,\n",
       "        4.57719194, 0.05530681, 0.65016347, 1.93928452, 1.83238512,\n",
       "        4.8036077 , 5.57059766, 0.94345265, 5.62133271, 5.84835654,\n",
       "        5.40815194, 4.27086762, 1.58013149, 2.87027843, 0.78808642,\n",
       "        6.00909134, 5.83020404, 0.84338728, 4.22646862, 5.93460626,\n",
       "        5.17106894, 5.11574657, 1.02414282, 4.38972491, 5.60666291,\n",
       "        4.04554303, 3.16465119, 0.9833659 , 1.61761298, 4.01875751,\n",
       "        5.86354945, 2.31582911, 4.89546736, 1.24036212, 4.16312613,\n",
       "        4.31470688, 3.48890785, 3.253788  , 4.24500098, 1.2370312 ,\n",
       "        4.80689897, 5.4907002 , 4.23809456, 4.65028825, 2.18242322,\n",
       "        5.0094549 , 1.09523416, 4.3625187 , 4.12650953, 1.9261492 ,\n",
       "        1.32966197, 7.60719205, 4.18308876, 6.58667651, 5.57781855,\n",
       "        6.24278562, 5.433192  , 3.86756525, 1.58211939, 4.18272753,\n",
       "        4.5582608 , 5.5091517 , 4.25558794, 1.69985685, 5.78052723,\n",
       "        4.99067437, 6.21706466, 4.55806394, 0.75273675, 2.46380954,\n",
       "        2.36746897, 2.61407863, 4.11520474, 1.34675614, 5.29735356,\n",
       "        6.0650558 , 6.04341147, 3.70790383, 6.11966446, 4.22492392,\n",
       "        1.92507509, 7.7171472 , 7.02524301, 5.71097909, 1.22734762,\n",
       "        1.80497078, 4.43337109, 4.01994101, 1.25569597, 0.55320903,\n",
       "        5.02388785, 4.88253505, 6.65328081, 1.86588706, 6.5920609 ]])"
      ]
     },
     "execution_count": 73,
     "metadata": {},
     "output_type": "execute_result"
    }
   ],
   "source": [
    "# 500 samples\n",
    "samples = yyy.resample(500)\n",
    "samples                    \n"
   ]
  },
  {
   "cell_type": "code",
   "execution_count": 74,
   "metadata": {},
   "outputs": [
    {
     "data": {
      "text/plain": [
       "3.7486757244192734"
      ]
     },
     "execution_count": 74,
     "metadata": {},
     "output_type": "execute_result"
    }
   ],
   "source": [
    "samples.mean()"
   ]
  },
  {
   "cell_type": "code",
   "execution_count": 75,
   "metadata": {},
   "outputs": [
    {
     "data": {
      "text/plain": [
       "3.7580000000000027"
      ]
     },
     "execution_count": 75,
     "metadata": {},
     "output_type": "execute_result"
    }
   ],
   "source": [
    "data2.mean()"
   ]
  },
  {
   "cell_type": "markdown",
   "metadata": {},
   "source": [
    "### PCA\n",
    "- Use Scikit to do PCA on the IRIS dataset\n",
    "- do a bar plot that shows the importance of info in each of the new dimensions\n",
    "- use PCA to reduce the number of attributes by 1. Note that for all the next parts, you will use the reduced data"
   ]
  },
  {
   "cell_type": "code",
   "execution_count": 78,
   "metadata": {},
   "outputs": [
    {
     "name": "stdout",
     "output_type": "stream",
     "text": [
      "(150, 4)\n"
     ]
    },
    {
     "data": {
      "text/plain": [
       "<BarContainer object of 4 artists>"
      ]
     },
     "execution_count": 78,
     "metadata": {},
     "output_type": "execute_result"
    },
    {
     "data": {
      "image/png": "[encoded data removed]",
      "text/plain": [
       "<Figure size 432x288 with 1 Axes>"
      ]
     },
     "metadata": {
      "needs_background": "light"
     },
     "output_type": "display_data"
    }
   ],
   "source": [
    "# Solve Here\n",
    "# Sepearting out the features\n",
    "#convert categorical data into numerical data\n",
    "\n",
    "z = data.drop('class', axis = 1)\n",
    "\n",
    "from sklearn.decomposition import PCA\n",
    "pca1 = PCA()\n",
    "pca1.fit(z)\n",
    "reduced_data = pca1.transform(z)\n",
    "print(reduced_data.shape)\n",
    "plt.bar(np.arange(4),pca1.explained_variance_ratio_)\n"
   ]
  },
  {
   "cell_type": "code",
   "execution_count": 80,
   "metadata": {},
   "outputs": [
    {
     "data": {
      "text/plain": [
       "(150, 3)"
      ]
     },
     "execution_count": 80,
     "metadata": {},
     "output_type": "execute_result"
    }
   ],
   "source": [
    "pca1 = PCA(n_components = 3)\n",
    "pca1.fit(z)\n",
    "reduced_data2 = pca1.transform(z)\n",
    "reduced_data2.shape"
   ]
  },
  {
   "cell_type": "markdown",
   "metadata": {},
   "source": [
    "# Part 4: Machine Learning\n",
    "In this part, you will explore the use of supervised and non supervised learning"
   ]
  },
  {
   "cell_type": "code",
   "execution_count": null,
   "metadata": {},
   "outputs": [],
   "source": []
  },
  {
   "cell_type": "markdown",
   "metadata": {},
   "source": [
    "### Non-Supervised Learning \n",
    "- using Kmeans, divide the data into different clusters. The number of clusters should be the same as the number of categories you have in the data\n",
    "- Do scatter plot for each two combination of the three dimensions together (0 vs 1), (0 vs 2), (1 vs 2). Use the kmeans labels to color the points in the scatter plots"
   ]
  },
  {
   "cell_type": "code",
   "execution_count": 84,
   "metadata": {},
   "outputs": [
    {
     "data": {
      "image/png": "[encoded data removed]",
      "text/plain": [
       "<Figure size 1008x864 with 3 Axes>"
      ]
     },
     "metadata": {
      "needs_background": "light"
     },
     "output_type": "display_data"
    }
   ],
   "source": [
    "# Solve Here\n",
    "from sklearn.cluster import KMeans\n",
    "kmin = KMeans(n_clusters = 3)\n",
    "kmin.fit(reduced_data2)\n",
    "\n",
    "##Plot the 3 combinations\n",
    "plt.figure(figsize = (14,12))\n",
    "plt.subplot(221)\n",
    "plt.scatter(reduced_data2[:,0],reduced_data2[:,1], c = kmin.labels_, cmap ='rainbow')\n",
    "plt.subplot(222)\n",
    "plt.scatter(reduced_data2[:,0],reduced_data2[:,2], c = kmin.labels_, cmap ='rainbow')\n",
    "plt.subplot(223)\n",
    "plt.scatter(reduced_data2[:,1],reduced_data2[:,2], c = kmin.labels_, cmap ='rainbow')\n",
    "plt.show()"
   ]
  },
  {
   "cell_type": "code",
   "execution_count": null,
   "metadata": {},
   "outputs": [],
   "source": [
    "### Supervised-Learning\n",
    "- Divide your dataset to 80% training and 20% validation\n",
    "- Build a Logistci regression model for the reduced IRIS dataset\n",
    "- What is the training accuracy\n",
    "- What is the validation accuracy\n",
    "- Form the confusion matrix"
   ]
  },
  {
   "cell_type": "code",
   "execution_count": 87,
   "metadata": {},
   "outputs": [
    {
     "name": "stdout",
     "output_type": "stream",
     "text": [
      "training: 96.66666666666667\n",
      "validation: 93.33333333333333\n"
     ]
    },
    {
     "name": "stderr",
     "output_type": "stream",
     "text": [
      "C:\\ProgramData\\Anaconda3\\lib\\site-packages\\sklearn\\linear_model\\logistic.py:432: FutureWarning: Default solver will be changed to 'lbfgs' in 0.22. Specify a solver to silence this warning.\n",
      "  FutureWarning)\n",
      "C:\\ProgramData\\Anaconda3\\lib\\site-packages\\sklearn\\linear_model\\logistic.py:469: FutureWarning: Default multi_class will be changed to 'auto' in 0.22. Specify the multi_class option to silence this warning.\n",
      "  \"this warning.\", FutureWarning)\n"
     ]
    }
   ],
   "source": [
    "# Solve Here\n",
    "from sklearn.model_selection import train_test_split\n",
    "## Step o Split the dataset into training (80%) and test (20%) sets\n",
    "\n",
    "x_train1, x_test1, y_train1, y_test1 = train_test_split(z,data['class'],test_size=0.20)\n",
    "\n",
    "\n",
    "#\n",
    "# Build the model then fit it with data\n",
    "\n",
    "#Step1 : Start building the model\n",
    "\n",
    "from sklearn.linear_model import LogisticRegression\n",
    "\n",
    "logisticReg = LogisticRegression()\n",
    "logisticReg.fit(x_train1, y_train1)\n",
    "\n",
    "###\n",
    "\n",
    "predictions = logisticReg.predict(x_test1)\n",
    "\n",
    "###\n",
    "## Use score method to get the accuracy of the model\n",
    "\n",
    "print('training:', logisticReg.score(x_train1, y_train1)*100)\n",
    "print('validation:', logisticReg.score(x_test1, y_test1)* 100)\n",
    "\n"
   ]
  },
  {
   "cell_type": "code",
   "execution_count": 90,
   "metadata": {},
   "outputs": [
    {
     "name": "stdout",
     "output_type": "stream",
     "text": [
      "[[13  0  0]\n",
      " [ 0  6  2]\n",
      " [ 0  0  9]]\n"
     ]
    },
    {
     "data": {
      "text/plain": [
       "Text(0.5, 84.5, 'Predicted label')"
      ]
     },
     "execution_count": 90,
     "metadata": {},
     "output_type": "execute_result"
    },
    {
     "data": {
      "image/png": "[encoded data removed]",
      "text/plain": [
       "<Figure size 864x864 with 1 Axes>"
      ]
     },
     "metadata": {},
     "output_type": "display_data"
    }
   ],
   "source": [
    "#### A confusion matrix is a table that is often used to describe the performance of a classification model (or \"classifier\") on a set of test data\n",
    "#for which the true values are known\n",
    "\n",
    "from sklearn import metrics\n",
    "confm = metrics.confusion_matrix(y_test1, predictions)\n",
    "print(confm)\n",
    "\n",
    "##########\n",
    "import seaborn as sns; sns.set()\n",
    "fig.hm = plt.subplots (figsize = (12,12))\n",
    "sns.heatmap(confm, square = True, annot = True, fmt = 'd', cbar = False)\n",
    "\n",
    "plt.ylabel('True data table')\n",
    "plt.xlabel ('Predicted label')\n"
   ]
  },
  {
   "cell_type": "code",
   "execution_count": null,
   "metadata": {},
   "outputs": [],
   "source": []
  }
 ],
 "metadata": {
  "kernelspec": {
   "display_name": "Python 3",
   "language": "python",
   "name": "python3"
  },
  "language_info": {
   "codemirror_mode": {
    "name": "ipython",
    "version": 3
   },
   "file_extension": ".py",
   "mimetype": "text/x-python",
   "name": "python",
   "nbconvert_exporter": "python",
   "pygments_lexer": "ipython3",
   "version": "3.7.1"
  }
 },
 "nbformat": 4,
 "nbformat_minor": 4
}

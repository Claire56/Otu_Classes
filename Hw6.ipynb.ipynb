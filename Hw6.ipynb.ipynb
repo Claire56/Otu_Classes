{
 "cells": [
  {
   "cell_type": "markdown",
   "metadata": {},
   "source": [
    "In this question, you will be analyzing a subset of the imdb movies database which consists of the top 10k movies. Download the file called `imdb_top_10000.txt` in the homework folder on smcmba  and follow the next steps to generate a good analysis report based on the given file.<br>\n",
    "First step is load the file using pandas. The columns represent `['imdbID', 'title', 'year', 'score', 'votes', 'runtime', 'genres']`. You need to decide on the correct separator.\n",
    "Display the top and bottom 7 elements of the table"
   ]
  },
  {
   "cell_type": "code",
   "execution_count": 1,
   "metadata": {},
   "outputs": [],
   "source": [
    "#solve here\n"
   ]
  },
  {
   "cell_type": "markdown",
   "metadata": {},
   "source": [
    "Is there any Nans in the data? What are the number of nulls in the data? Clean up the data and remove the rows that contains the nulls\n",
    "<br> **Bonus if you display only the rows that has Nans**"
   ]
  },
  {
   "cell_type": "code",
   "execution_count": 2,
   "metadata": {},
   "outputs": [],
   "source": [
    "# Solve here\n"
   ]
  },
  {
   "cell_type": "markdown",
   "metadata": {},
   "source": [
    "The column called runtime contains the duration of the movie with the word mins next to it (such as 142 mins). We need to have the duration as just numbers without the word mins so we can do some statistical analysis on the movies durations. Use the pandas function `str.split` to split the runtime column into two (number and the word mins). Then add the one that has the numbers to the data as a new column called duration. For example, the rows that had runtime 142 mins, will have a new column called duration which contains 142"
   ]
  },
  {
   "cell_type": "code",
   "execution_count": 3,
   "metadata": {},
   "outputs": [],
   "source": [
    "# solve here\n"
   ]
  },
  {
   "cell_type": "markdown",
   "metadata": {},
   "source": [
    "What is min, max, average and variance of the durations and which movies have the longest durations?"
   ]
  },
  {
   "cell_type": "code",
   "execution_count": 4,
   "metadata": {},
   "outputs": [],
   "source": [
    "# solve here\n"
   ]
  },
  {
   "cell_type": "markdown",
   "metadata": {},
   "source": [
    "What are the years provided in the given file?"
   ]
  },
  {
   "cell_type": "code",
   "execution_count": 7,
   "metadata": {},
   "outputs": [],
   "source": [
    "# Solve here\n",
    "# hint use unique and sort the outcome\n"
   ]
  },
  {
   "cell_type": "markdown",
   "metadata": {},
   "source": [
    "Is there any duplicates in the data?"
   ]
  },
  {
   "cell_type": "code",
   "execution_count": 1,
   "metadata": {},
   "outputs": [],
   "source": [
    "# solve here\n"
   ]
  },
  {
   "cell_type": "markdown",
   "metadata": {},
   "source": [
    "Calculate the number of movies produced each year then plot number of movies vs years, what is the year that has the highest movies?\n",
    "Calculate this with the code and verify it with the graph"
   ]
  },
  {
   "cell_type": "code",
   "execution_count": 8,
   "metadata": {},
   "outputs": [],
   "source": [
    "# Solve here\n"
   ]
  }
 ],
 "metadata": {
  "kernelspec": {
   "display_name": "Python 3",
   "language": "python",
   "name": "python3"
  },
  "language_info": {
   "codemirror_mode": {
    "name": "ipython",
    "version": 3
   },
   "file_extension": ".py",
   "mimetype": "text/x-python",
   "name": "python",
   "nbconvert_exporter": "python",
   "pygments_lexer": "ipython3",
   "version": "3.7.3"
  }
 },
 "nbformat": 4,
 "nbformat_minor": 4
}

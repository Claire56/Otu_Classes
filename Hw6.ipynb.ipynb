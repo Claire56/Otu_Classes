{
 "cells": [
  {
   "cell_type": "markdown",
   "metadata": {},
   "source": [
    "In this question, you will be analyzing a subset of the imdb movies database which consists of the top 10k movies. Download the file called `imdb_top_10000.txt` in the homework folder on smcmba  and follow the next steps to generate a good analysis report based on the given file.<br>\n",
    "First step is load the file using pandas. The columns represent `['imdbID', 'title', 'year', 'score', 'votes', 'runtime', 'genres']`. You need to decide on the correct separator.\n",
    "Display the top and bottom 7 elements of the table"
   ]
  },
  {
   "cell_type": "code",
   "execution_count": 36,
   "metadata": {},
   "outputs": [
    {
     "data": {
      "text/plain": [
       "(      imdbID                            title  year  score   votes    runtime  \\\n",
       " 0  tt0111161  The Shawshank Redemption (1994)  1994    9.2  619479  142 mins.   \n",
       " 1  tt0110912              Pulp Fiction (1994)  1994    9.0  490065  154 mins.   \n",
       " 2  tt0137523                Fight Club (1999)  1999    8.8  458173  139 mins.   \n",
       " 3  tt0133093                The Matrix (1999)  1999    8.7  448114  136 mins.   \n",
       " 4  tt1375666                 Inception (2010)  2010    8.9  385149  148 mins.   \n",
       " 5  tt0109830              Forrest Gump (1994)  1994    8.7  368994  142 mins.   \n",
       " \n",
       "                              genres  \n",
       " 0                       Crime|Drama  \n",
       " 1                    Crime|Thriller  \n",
       " 2            Drama|Mystery|Thriller  \n",
       " 3           Action|Adventure|Sci-Fi  \n",
       " 4  Action|Adventure|Sci-Fi|Thriller  \n",
       " 5              Comedy|Drama|Romance  ,\n",
       "          imdbID                          title  year  score  votes    runtime  \\\n",
       " 9994  tt0118635                  Aprile (1998)  1998    6.7   1358   78 mins.   \n",
       " 9995  tt0807721                 Meduzot (2007)  2007    7.0   1357   78 mins.   \n",
       " 9996  tt0339642          Daltry Calhoun (2005)  2005    5.2   1357  100 mins.   \n",
       " 9997  tt0060880  The Quiller Memorandum (1966)  1966    6.5   1356  104 mins.   \n",
       " 9998  tt0152836                    Taal (1999)  1999    6.5   1356  179 mins.   \n",
       " 9999  tt0279977          The Navigators (2001)  2001    6.9   1356   96 mins.   \n",
       " \n",
       "                           genres  \n",
       " 9994                      Comedy  \n",
       " 9995                       Drama  \n",
       " 9996  Comedy|Drama|Music|Romance  \n",
       " 9997      Drama|Mystery|Thriller  \n",
       " 9998             Musical|Romance  \n",
       " 9999                Comedy|Drama  )"
      ]
     },
     "execution_count": 36,
     "metadata": {},
     "output_type": "execute_result"
    }
   ],
   "source": [
    "#solve here\n",
    "import pandas as pd\n",
    "import numpy as np\n",
    "\n",
    "df=pd.read_csv('imdb_top_10000.txt', names=['imdbID', 'title', 'year', 'score', 'votes', \n",
    "                                            'runtime', 'genres'],sep=\"\\t\" )\n",
    "df.head(6),df.tail(6)"
   ]
  },
  {
   "cell_type": "code",
   "execution_count": null,
   "metadata": {},
   "outputs": [],
   "source": []
  },
  {
   "cell_type": "markdown",
   "metadata": {},
   "source": [
    "Is there any Nans in the data? What are the number of nulls in the data? Clean up the data and remove the rows that contains the nulls\n",
    "<br> **Bonus if you display only the rows that has Nans**"
   ]
  },
  {
   "cell_type": "code",
   "execution_count": 37,
   "metadata": {},
   "outputs": [
    {
     "name": "stdout",
     "output_type": "stream",
     "text": [
      "<class 'pandas.core.frame.DataFrame'>\n",
      "RangeIndex: 10000 entries, 0 to 9999\n",
      "Data columns (total 7 columns):\n",
      "imdbID     10000 non-null object\n",
      "title      10000 non-null object\n",
      "year       10000 non-null int64\n",
      "score      10000 non-null float64\n",
      "votes      10000 non-null int64\n",
      "runtime    10000 non-null object\n",
      "genres     9999 non-null object\n",
      "dtypes: float64(1), int64(2), object(4)\n",
      "memory usage: 547.0+ KB\n"
     ]
    }
   ],
   "source": [
    "df.info()#only one row has nulls"
   ]
  },
  {
   "cell_type": "code",
   "execution_count": 38,
   "metadata": {},
   "outputs": [
    {
     "data": {
      "text/html": [
       "<div>\n",
       "<style scoped>\n",
       "    .dataframe tbody tr th:only-of-type {\n",
       "        vertical-align: middle;\n",
       "    }\n",
       "\n",
       "    .dataframe tbody tr th {\n",
       "        vertical-align: top;\n",
       "    }\n",
       "\n",
       "    .dataframe thead th {\n",
       "        text-align: right;\n",
       "    }\n",
       "</style>\n",
       "<table border=\"1\" class=\"dataframe\">\n",
       "  <thead>\n",
       "    <tr style=\"text-align: right;\">\n",
       "      <th></th>\n",
       "      <th>imdbID</th>\n",
       "      <th>title</th>\n",
       "      <th>year</th>\n",
       "      <th>score</th>\n",
       "      <th>votes</th>\n",
       "      <th>runtime</th>\n",
       "      <th>genres</th>\n",
       "    </tr>\n",
       "  </thead>\n",
       "  <tbody>\n",
       "    <tr>\n",
       "      <th>7917</th>\n",
       "      <td>tt0990404</td>\n",
       "      <td>Chop Shop (2007)</td>\n",
       "      <td>2007</td>\n",
       "      <td>7.2</td>\n",
       "      <td>2104</td>\n",
       "      <td>84 mins.</td>\n",
       "      <td>NaN</td>\n",
       "    </tr>\n",
       "  </tbody>\n",
       "</table>\n",
       "</div>"
      ],
      "text/plain": [
       "         imdbID             title  year  score  votes   runtime genres\n",
       "7917  tt0990404  Chop Shop (2007)  2007    7.2   2104  84 mins.    NaN"
      ]
     },
     "execution_count": 38,
     "metadata": {},
     "output_type": "execute_result"
    }
   ],
   "source": [
    "df[pd.isnull(df).any(axis =1)]#show row with. nulls "
   ]
  },
  {
   "cell_type": "code",
   "execution_count": 39,
   "metadata": {},
   "outputs": [
    {
     "name": "stdout",
     "output_type": "stream",
     "text": [
      "<class 'pandas.core.frame.DataFrame'>\n",
      "Int64Index: 9999 entries, 0 to 9999\n",
      "Data columns (total 7 columns):\n",
      "imdbID     9999 non-null object\n",
      "title      9999 non-null object\n",
      "year       9999 non-null int64\n",
      "score      9999 non-null float64\n",
      "votes      9999 non-null int64\n",
      "runtime    9999 non-null object\n",
      "genres     9999 non-null object\n",
      "dtypes: float64(1), int64(2), object(4)\n",
      "memory usage: 624.9+ KB\n"
     ]
    }
   ],
   "source": [
    "# clean data\n",
    "new_df = df.dropna()\n",
    "new_df.info()"
   ]
  },
  {
   "cell_type": "markdown",
   "metadata": {},
   "source": [
    "The column called runtime contains the duration of the movie with the word mins next to it (such as 142 mins). We need to have the duration as just numbers without the word mins so we can do some statistical analysis on the movies durations. Use the pandas function `str.split` to split the runtime column into two (number and the word mins). Then add the one that has the numbers to the data as a new column called duration. For example, the rows that had runtime 142 mins, will have a new column called duration which contains 142"
   ]
  },
  {
   "cell_type": "code",
   "execution_count": 40,
   "metadata": {},
   "outputs": [
    {
     "name": "stderr",
     "output_type": "stream",
     "text": [
      "/Users/claire_kim/anaconda3/lib/python3.7/site-packages/ipykernel_launcher.py:2: SettingWithCopyWarning: \n",
      "A value is trying to be set on a copy of a slice from a DataFrame.\n",
      "Try using .loc[row_indexer,col_indexer] = value instead\n",
      "\n",
      "See the caveats in the documentation: http://pandas.pydata.org/pandas-docs/stable/indexing.html#indexing-view-versus-copy\n",
      "  \n"
     ]
    }
   ],
   "source": [
    "# create column duration from runtime\n",
    "new_df['duration'] = new_df['runtime'].apply(lambda x : x.split()[0])"
   ]
  },
  {
   "cell_type": "code",
   "execution_count": 41,
   "metadata": {},
   "outputs": [
    {
     "data": {
      "text/html": [
       "<div>\n",
       "<style scoped>\n",
       "    .dataframe tbody tr th:only-of-type {\n",
       "        vertical-align: middle;\n",
       "    }\n",
       "\n",
       "    .dataframe tbody tr th {\n",
       "        vertical-align: top;\n",
       "    }\n",
       "\n",
       "    .dataframe thead th {\n",
       "        text-align: right;\n",
       "    }\n",
       "</style>\n",
       "<table border=\"1\" class=\"dataframe\">\n",
       "  <thead>\n",
       "    <tr style=\"text-align: right;\">\n",
       "      <th></th>\n",
       "      <th>imdbID</th>\n",
       "      <th>title</th>\n",
       "      <th>year</th>\n",
       "      <th>score</th>\n",
       "      <th>votes</th>\n",
       "      <th>runtime</th>\n",
       "      <th>genres</th>\n",
       "      <th>duration</th>\n",
       "    </tr>\n",
       "  </thead>\n",
       "  <tbody>\n",
       "    <tr>\n",
       "      <th>0</th>\n",
       "      <td>tt0111161</td>\n",
       "      <td>The Shawshank Redemption (1994)</td>\n",
       "      <td>1994</td>\n",
       "      <td>9.2</td>\n",
       "      <td>619479</td>\n",
       "      <td>142 mins.</td>\n",
       "      <td>Crime|Drama</td>\n",
       "      <td>142</td>\n",
       "    </tr>\n",
       "    <tr>\n",
       "      <th>1</th>\n",
       "      <td>tt0110912</td>\n",
       "      <td>Pulp Fiction (1994)</td>\n",
       "      <td>1994</td>\n",
       "      <td>9.0</td>\n",
       "      <td>490065</td>\n",
       "      <td>154 mins.</td>\n",
       "      <td>Crime|Thriller</td>\n",
       "      <td>154</td>\n",
       "    </tr>\n",
       "    <tr>\n",
       "      <th>2</th>\n",
       "      <td>tt0137523</td>\n",
       "      <td>Fight Club (1999)</td>\n",
       "      <td>1999</td>\n",
       "      <td>8.8</td>\n",
       "      <td>458173</td>\n",
       "      <td>139 mins.</td>\n",
       "      <td>Drama|Mystery|Thriller</td>\n",
       "      <td>139</td>\n",
       "    </tr>\n",
       "    <tr>\n",
       "      <th>3</th>\n",
       "      <td>tt0133093</td>\n",
       "      <td>The Matrix (1999)</td>\n",
       "      <td>1999</td>\n",
       "      <td>8.7</td>\n",
       "      <td>448114</td>\n",
       "      <td>136 mins.</td>\n",
       "      <td>Action|Adventure|Sci-Fi</td>\n",
       "      <td>136</td>\n",
       "    </tr>\n",
       "    <tr>\n",
       "      <th>4</th>\n",
       "      <td>tt1375666</td>\n",
       "      <td>Inception (2010)</td>\n",
       "      <td>2010</td>\n",
       "      <td>8.9</td>\n",
       "      <td>385149</td>\n",
       "      <td>148 mins.</td>\n",
       "      <td>Action|Adventure|Sci-Fi|Thriller</td>\n",
       "      <td>148</td>\n",
       "    </tr>\n",
       "  </tbody>\n",
       "</table>\n",
       "</div>"
      ],
      "text/plain": [
       "      imdbID                            title  year  score   votes    runtime  \\\n",
       "0  tt0111161  The Shawshank Redemption (1994)  1994    9.2  619479  142 mins.   \n",
       "1  tt0110912              Pulp Fiction (1994)  1994    9.0  490065  154 mins.   \n",
       "2  tt0137523                Fight Club (1999)  1999    8.8  458173  139 mins.   \n",
       "3  tt0133093                The Matrix (1999)  1999    8.7  448114  136 mins.   \n",
       "4  tt1375666                 Inception (2010)  2010    8.9  385149  148 mins.   \n",
       "\n",
       "                             genres duration  \n",
       "0                       Crime|Drama      142  \n",
       "1                    Crime|Thriller      154  \n",
       "2            Drama|Mystery|Thriller      139  \n",
       "3           Action|Adventure|Sci-Fi      136  \n",
       "4  Action|Adventure|Sci-Fi|Thriller      148  "
      ]
     },
     "execution_count": 41,
     "metadata": {},
     "output_type": "execute_result"
    }
   ],
   "source": [
    "new_df.head()"
   ]
  },
  {
   "cell_type": "markdown",
   "metadata": {},
   "source": [
    "What is min, max, average and variance of the durations and which movies have the longest durations?"
   ]
  },
  {
   "cell_type": "code",
   "execution_count": 42,
   "metadata": {},
   "outputs": [
    {
     "name": "stdout",
     "output_type": "stream",
     "text": [
      "<class 'pandas.core.frame.DataFrame'>\n",
      "Int64Index: 9999 entries, 0 to 9999\n",
      "Data columns (total 8 columns):\n",
      "imdbID      9999 non-null object\n",
      "title       9999 non-null object\n",
      "year        9999 non-null int64\n",
      "score       9999 non-null float64\n",
      "votes       9999 non-null int64\n",
      "runtime     9999 non-null object\n",
      "genres      9999 non-null object\n",
      "duration    9999 non-null int64\n",
      "dtypes: float64(1), int64(3), object(4)\n",
      "memory usage: 703.1+ KB\n"
     ]
    }
   ],
   "source": [
    "# change duration datatype\n",
    "new_df.duration = new_df.duration.astype(int, errors = 'ignore')\n",
    "#show information about dataset to see if duration is int\n",
    "new_df.info()"
   ]
  },
  {
   "cell_type": "code",
   "execution_count": 48,
   "metadata": {},
   "outputs": [
    {
     "data": {
      "text/plain": [
       "count    9999.000000\n",
       "mean      103.580358\n",
       "std        26.629310\n",
       "min         0.000000\n",
       "25%        93.000000\n",
       "50%       102.000000\n",
       "75%       115.000000\n",
       "max       450.000000\n",
       "Name: duration, dtype: float64"
      ]
     },
     "execution_count": 48,
     "metadata": {},
     "output_type": "execute_result"
    }
   ],
   "source": [
    "new_df.duration.describe() #min,max and average"
   ]
  },
  {
   "cell_type": "code",
   "execution_count": 49,
   "metadata": {},
   "outputs": [
    {
     "data": {
      "text/plain": [
       "709.1201422602626"
      ]
     },
     "execution_count": 49,
     "metadata": {},
     "output_type": "execute_result"
    }
   ],
   "source": [
    "new_df.duration.var() #variance"
   ]
  },
  {
   "cell_type": "markdown",
   "metadata": {},
   "source": [
    "What are the years provided in the given file?"
   ]
  },
  {
   "cell_type": "code",
   "execution_count": 59,
   "metadata": {},
   "outputs": [
    {
     "data": {
      "text/plain": [
       "[1950, 1951, 1952, 1953, 1954, 1955, 1956, 1957, 1958, 1959]"
      ]
     },
     "execution_count": 59,
     "metadata": {},
     "output_type": "execute_result"
    }
   ],
   "source": [
    "# Solve here\n",
    "# hint use unique and sort the outcome\n",
    "years = sorted(new_df.year.unique())\n",
    "years[0:10] #showing first 10 yeears"
   ]
  },
  {
   "cell_type": "markdown",
   "metadata": {},
   "source": [
    "Is there any duplicates in the data?"
   ]
  },
  {
   "cell_type": "code",
   "execution_count": 61,
   "metadata": {},
   "outputs": [
    {
     "data": {
      "text/html": [
       "<div>\n",
       "<style scoped>\n",
       "    .dataframe tbody tr th:only-of-type {\n",
       "        vertical-align: middle;\n",
       "    }\n",
       "\n",
       "    .dataframe tbody tr th {\n",
       "        vertical-align: top;\n",
       "    }\n",
       "\n",
       "    .dataframe thead th {\n",
       "        text-align: right;\n",
       "    }\n",
       "</style>\n",
       "<table border=\"1\" class=\"dataframe\">\n",
       "  <thead>\n",
       "    <tr style=\"text-align: right;\">\n",
       "      <th></th>\n",
       "      <th>imdbID</th>\n",
       "      <th>title</th>\n",
       "      <th>year</th>\n",
       "      <th>score</th>\n",
       "      <th>votes</th>\n",
       "      <th>runtime</th>\n",
       "      <th>genres</th>\n",
       "      <th>duration</th>\n",
       "    </tr>\n",
       "  </thead>\n",
       "  <tbody>\n",
       "  </tbody>\n",
       "</table>\n",
       "</div>"
      ],
      "text/plain": [
       "Empty DataFrame\n",
       "Columns: [imdbID, title, year, score, votes, runtime, genres, duration]\n",
       "Index: []"
      ]
     },
     "execution_count": 61,
     "metadata": {},
     "output_type": "execute_result"
    }
   ],
   "source": [
    "# solve here\n",
    "new_df[new_df.duplicated()]"
   ]
  },
  {
   "cell_type": "code",
   "execution_count": 65,
   "metadata": {},
   "outputs": [
    {
     "data": {
      "text/plain": [
       "array([False])"
      ]
     },
     "execution_count": 65,
     "metadata": {},
     "output_type": "execute_result"
    }
   ],
   "source": [
    "n = new_df.duplicated()\n",
    "n.unique()#no duplicates"
   ]
  },
  {
   "cell_type": "markdown",
   "metadata": {},
   "source": [
    "Calculate the number of movies produced each year then plot number of movies vs years, what is the year that has the highest movies?\n",
    "Calculate this with the code and verify it with the graph"
   ]
  },
  {
   "cell_type": "code",
   "execution_count": 45,
   "metadata": {},
   "outputs": [],
   "source": [
    "# Solve here\n"
   ]
  }
 ],
 "metadata": {
  "kernelspec": {
   "display_name": "Python 3",
   "language": "python",
   "name": "python3"
  },
  "language_info": {
   "codemirror_mode": {
    "name": "ipython",
    "version": 3
   },
   "file_extension": ".py",
   "mimetype": "text/x-python",
   "name": "python",
   "nbconvert_exporter": "python",
   "pygments_lexer": "ipython3",
   "version": "3.7.1"
  }
 },
 "nbformat": 4,
 "nbformat_minor": 4
}

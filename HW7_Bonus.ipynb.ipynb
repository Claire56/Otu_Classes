{
 "cells": [
  {
   "cell_type": "markdown",
   "metadata": {},
   "source": [
    "In this homework, we will use the same dataset of the stock prices we used for lec 6 and 7. The data is in a pickle file called yahoo_price.pkl and you can find it in the same folder this homework was in on SMCMBA. Download the data file and read it inside your python. Refer to the lec notebook to see how you can read a pickle file. After loading your data use the `describe` function to showcase your data"
   ]
  },
  {
   "cell_type": "code",
   "execution_count": 1,
   "metadata": {},
   "outputs": [],
   "source": [
    "# Load data here \n"
   ]
  },
  {
   "cell_type": "markdown",
   "metadata": {},
   "source": [
    "For each of the companies in the data, use **scipy and for loop** to estimate the density function. Plot the normalized histogram for each of the columns with the estimated pdf on top of it in the same figure (similar to lec 9). Use subplot to divide a graph of `figsize=(15,15)` into different subplots (one for each company). Make sure your graphs have labels and titles (you can use company name as a title)"
   ]
  },
  {
   "cell_type": "code",
   "execution_count": 2,
   "metadata": {},
   "outputs": [],
   "source": [
    "# Solve here\n",
    "\n"
   ]
  }
 ],
 "metadata": {
  "kernelspec": {
   "display_name": "Python 3",
   "language": "python",
   "name": "python3"
  },
  "language_info": {
   "codemirror_mode": {
    "name": "ipython",
    "version": 3
   },
   "file_extension": ".py",
   "mimetype": "text/x-python",
   "name": "python",
   "nbconvert_exporter": "python",
   "pygments_lexer": "ipython3",
   "version": "3.6.6"
  }
 },
 "nbformat": 4,
 "nbformat_minor": 2
}

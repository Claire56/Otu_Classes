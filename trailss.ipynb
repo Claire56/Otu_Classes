{
 "cells": [
  {
   "cell_type": "markdown",
   "metadata": {},
   "source": [
    "# Question"
   ]
  },
  {
   "cell_type": "raw",
   "metadata": {},
   "source": [
    "NAMES = ['Alice', 'Bob', 'Cathy', 'Dan', 'Ed', 'Frank','Gary', 'Helen', 'Irene', 'Jack', 'Kelly', 'Larry'] "
   ]
  },
  {
   "cell_type": "markdown",
   "metadata": {},
   "source": [
    "- Use numpy random seed of 1234\n",
    "- For the list of Names given above, randomly generate another list of ages with the same length as Names using Numpy. Ages should be between 17 and 25\n",
    "- How old is Dan?\n",
    "- Create a dictionary that has two keys 'Names' and 'ages'. The value in the key names is the list of names and the value in ages should be the list of random ages you generated\n",
    "- Using the dictionary, form a pandas data frame\n",
    "- Find out how many people older than 21\n",
    "- What is the average age for all the people in the list\n",
    "- How many names has five charachters \n",
    "- Generate a column called state. The elements of the column state should be Ohio whenever the number of charachters in a person's name is 3 or less and California whenever it is four and Oregon for five or more \n",
    "- Add the new array state as a new column in the data frame\n",
    "- is there any duplicates in the data?\n",
    "- How many of the given names live in California and what is the average age for them?\n",
    "- plot a histogram for the ages"
   ]
  },
  {
   "cell_type": "code",
   "execution_count": 20,
   "metadata": {},
   "outputs": [],
   "source": [
    "# solve here\n"
   ]
  }
 ],
 "metadata": {
  "kernelspec": {
   "display_name": "Python 3",
   "language": "python",
   "name": "python3"
  },
  "language_info": {
   "codemirror_mode": {
    "name": "ipython",
    "version": 3
   },
   "file_extension": ".py",
   "mimetype": "text/x-python",
   "name": "python",
   "nbconvert_exporter": "python",
   "pygments_lexer": "ipython3",
   "version": "3.7.4"
  }
 },
 "nbformat": 4,
 "nbformat_minor": 4
}
